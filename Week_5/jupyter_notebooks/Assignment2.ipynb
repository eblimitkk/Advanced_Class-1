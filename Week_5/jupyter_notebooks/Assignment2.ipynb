{
 "cells": [
  {
   "cell_type": "markdown",
   "metadata": {},
   "source": [
    "# Assignment 2\n",
    "Code for second assignment.  "
   ]
  },
  {
   "cell_type": "code",
   "execution_count": 1,
   "metadata": {
    "scrolled": true
   },
   "outputs": [
    {
     "data": {
      "application/vnd.jupyter.widget-view+json": {
       "model_id": "def0ea831d6048ff88e04f597ae96a26",
       "version_major": 2,
       "version_minor": 0
      },
      "text/plain": [
       "MapView(basemap='terrain', layout=Layout(height='400px', width='100%'), zoom=3.0)"
      ]
     },
     "metadata": {},
     "output_type": "display_data"
    }
   ],
   "source": [
    "from arcgis.gis import GIS\n",
    "from IPython.display import display\n",
    "\n",
    "\n",
    "\n",
    "gis = GIS()\n",
    "gis.map()\n",
    "item = gis.content.get('58b7d7c904b745fb8a42c4e467b2b751')\n",
    "\n",
    "\n",
    "classed_size = { \"renderer\": \"ClassedSizeRenderer\", \"field_name\":\"FATALITIES\"}\n",
    "map1 = gis.map()\n",
    "map1.basemap = 'terrain'\n",
    "\n",
    "map1.center = [13.633559,15.368832]\n",
    "map1.zoom = 3\n",
    "map1.add_layer(item,classed_size)\n",
    "\n",
    "map1\n"
   ]
  },
  {
   "cell_type": "code",
   "execution_count": null,
   "metadata": {},
   "outputs": [],
   "source": []
  }
 ],
 "metadata": {
  "kernelspec": {
   "display_name": "Python 3",
   "language": "python",
   "name": "python3"
  },
  "language_info": {
   "codemirror_mode": {
    "name": "ipython",
    "version": 3
   },
   "file_extension": ".py",
   "mimetype": "text/x-python",
   "name": "python",
   "nbconvert_exporter": "python",
   "pygments_lexer": "ipython3",
   "version": "3.6.6"
  }
 },
 "nbformat": 4,
 "nbformat_minor": 2
}
