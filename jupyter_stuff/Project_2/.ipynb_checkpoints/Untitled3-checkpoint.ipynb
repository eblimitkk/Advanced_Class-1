{
 "cells": [
  {
   "cell_type": "code",
   "execution_count": null,
   "metadata": {},
   "outputs": [],
   "source": [
    "    item_properties = {\n",
    "    \"title\": \"Fragile State index \"+year,\n",
    "    \"tags\" : \"fragile state,\"+year,\n",
    "    \"snippet\": \" Fragile State Index for year \"+year,\n",
    "    \"description\": \"\",\n",
    "    \"text\": json.dumps({\"featureCollection\": {\"layers\": [dict(country.layer)]}}),\n",
    "    \"type\": \"Feature Collection\",\n",
    "    \"owner\":\"sspiegel_slu\",\n",
    "    \"typeKeywords\": \"Data, Feature Collection, Singlelayer\",\n",
    "    \"extent\" : \"\"\n",
    "}"
   ]
  }
 ],
 "metadata": {
  "kernelspec": {
   "display_name": "Python 3",
   "language": "python",
   "name": "python3"
  },
  "language_info": {
   "codemirror_mode": {
    "name": "ipython",
    "version": 3
   },
   "file_extension": ".py",
   "mimetype": "text/x-python",
   "name": "python",
   "nbconvert_exporter": "python",
   "pygments_lexer": "ipython3",
   "version": "3.6.6"
  }
 },
 "nbformat": 4,
 "nbformat_minor": 2
}
