{
 "cells": [
  {
   "cell_type": "markdown",
   "metadata": {},
   "source": [
    "# Project 2: Fragile State Index Webmap.  "
   ]
  },
  {
   "cell_type": "markdown",
   "metadata": {},
   "source": [
    " - Import ArcGIS and Import GIS (as well as all the other libraries).  "
   ]
  },
  {
   "cell_type": "code",
   "execution_count": 1,
   "metadata": {},
   "outputs": [],
   "source": [
    "from arcgis.gis import GIS\n",
    "from arcgis.geocoding import Geocoder, get_geocoders\n",
    "from arcgis.features import FeatureLayer\n",
    "import pandas as pd\n",
    "import os \n",
    "import glob\n",
    "import numpy as np\n",
    "import json\n",
    "from datetime import date\n",
    "\n"
   ]
  },
  {
   "cell_type": "markdown",
   "metadata": {},
   "source": [
    "- Set GIS to Arcgis home with username and password (yes, this is my password because I'm too lazy to input it everytime.  Please don't mess with anything.)"
   ]
  },
  {
   "cell_type": "code",
   "execution_count": 2,
   "metadata": {},
   "outputs": [],
   "source": [
    "gis = GIS(\"http://slustl.maps.arcgis.com/home\",\"sspiegel_slu\",\"Apples*200\")"
   ]
  },
  {
   "cell_type": "markdown",
   "metadata": {},
   "source": [
    "- Create my world map."
   ]
  },
  {
   "cell_type": "code",
   "execution_count": 3,
   "metadata": {},
   "outputs": [],
   "source": [
    "world_map = gis.map()\n",
    "world_map.basemap = 'hybrid'"
   ]
  },
  {
   "cell_type": "code",
   "execution_count": 4,
   "metadata": {},
   "outputs": [],
   "source": [
    "#set the current working directory via the variable 'path'.  Note in this case, path is the current working directory,\n",
    "#however one may change it to a different folder\n",
    "path = os.getcwd()\n",
    "os.chdir(path)"
   ]
  },
  {
   "cell_type": "markdown",
   "metadata": {},
   "source": [
    "- Rename the files with my initials at the end."
   ]
  },
  {
   "cell_type": "code",
   "execution_count": 4,
   "metadata": {},
   "outputs": [],
   "source": [
    "#list the excel files in the directory (or wherever they may be located)\n",
    "excel_files = glob.glob('*.xlsx')\n",
    "years = []\n",
    "for file in excel_files:\n",
    "\n",
    "    #print(year)\n",
    "    if '_sss.xlsx' not in file:\n",
    "       # print('True')\n",
    "        \n",
    "        #print(year)\n",
    "        combo = file[:-4]+'_sss'+'.xlsx'\n",
    "        years.append(combo[4:8])\n",
    "        #print(combo)\n",
    "        os.rename(file,combo)\n",
    "\n",
    "        \n",
    "        \n",
    "country_list = []\n",
    "country = pd.read_excel(excel_files[-1])\n",
    "\n",
    "for index, row in country.iterrows():\n",
    "    country_list.append(row[0])\n",
    "    \n",
    "    \n",
    "    \n",
    "        \n",
    "\n",
    "        \n",
    "    \n"
   ]
  },
  {
   "cell_type": "markdown",
   "metadata": {},
   "source": [
    "- Now it's time to use the 'pandas' library. \n",
    "- We are going to read the excel files into a dataframe.  Also, we will do this with a 'for' loop.\n",
    "- Additionally, we will add the data to the 'world_map' GIS object."
   ]
  },
  {
   "cell_type": "code",
   "execution_count": 10,
   "metadata": {},
   "outputs": [
    {
     "ename": "RuntimeError",
     "evalue": "Specify type in item_properties",
     "output_type": "error",
     "traceback": [
      "\u001b[1;31m---------------------------------------------------------------------------\u001b[0m",
      "\u001b[1;31mRuntimeError\u001b[0m                              Traceback (most recent call last)",
      "\u001b[1;32m<ipython-input-10-0776fb1643b9>\u001b[0m in \u001b[0;36m<module>\u001b[1;34m\u001b[0m\n\u001b[0;32m     10\u001b[0m \u001b[1;33m\u001b[0m\u001b[0m\n\u001b[0;32m     11\u001b[0m \u001b[1;33m\u001b[0m\u001b[0m\n\u001b[1;32m---> 12\u001b[1;33m     \u001b[0mcountry\u001b[0m \u001b[1;33m=\u001b[0m \u001b[0mgis\u001b[0m\u001b[1;33m.\u001b[0m\u001b[0mcontent\u001b[0m\u001b[1;33m.\u001b[0m\u001b[0madd\u001b[0m\u001b[1;33m(\u001b[0m\u001b[1;33m{\u001b[0m\u001b[1;33m}\u001b[0m\u001b[1;33m,\u001b[0m \u001b[0mfile\u001b[0m\u001b[1;33m)\u001b[0m\u001b[1;33m\u001b[0m\u001b[0m\n\u001b[0m\u001b[0;32m     13\u001b[0m     \u001b[0mlayers\u001b[0m \u001b[1;33m=\u001b[0m \u001b[0mcountry\u001b[0m\u001b[1;33m.\u001b[0m\u001b[0mpublish\u001b[0m\u001b[1;33m(\u001b[0m\u001b[1;32mNone\u001b[0m\u001b[1;33m,\u001b[0m \u001b[1;33m{\u001b[0m\u001b[1;34m\"Address\"\u001b[0m\u001b[1;33m:\u001b[0m\u001b[1;34m\"Country\"\u001b[0m\u001b[1;33m}\u001b[0m\u001b[1;33m)\u001b[0m\u001b[1;33m\u001b[0m\u001b[0m\n\u001b[0;32m     14\u001b[0m     \u001b[1;31m#world_map.add_layer(country, { \"renderer\":\"ClassedSizeRenderer\", \"field_name\":\"Total\" })\u001b[0m\u001b[1;33m\u001b[0m\u001b[1;33m\u001b[0m\u001b[0m\n",
      "\u001b[1;32m~\\AppData\\Local\\ESRI\\conda\\envs\\my_arcgispro-py3\\lib\\site-packages\\arcgis\\gis\\__init__.py\u001b[0m in \u001b[0;36madd\u001b[1;34m(self, item_properties, data, thumbnail, metadata, owner, folder)\u001b[0m\n\u001b[0;32m   2445\u001b[0m                     \u001b[0mitem_properties\u001b[0m\u001b[1;33m[\u001b[0m\u001b[1;34m'type'\u001b[0m\u001b[1;33m]\u001b[0m \u001b[1;33m=\u001b[0m \u001b[0mfiletype\u001b[0m\u001b[1;33m\u001b[0m\u001b[0m\n\u001b[0;32m   2446\u001b[0m                 \u001b[1;32melse\u001b[0m\u001b[1;33m:\u001b[0m\u001b[1;33m\u001b[0m\u001b[0m\n\u001b[1;32m-> 2447\u001b[1;33m                     \u001b[1;32mraise\u001b[0m \u001b[0mRuntimeError\u001b[0m\u001b[1;33m(\u001b[0m\u001b[1;34m'Specify type in item_properties'\u001b[0m\u001b[1;33m)\u001b[0m\u001b[1;33m\u001b[0m\u001b[0m\n\u001b[0m\u001b[0;32m   2448\u001b[0m             \u001b[1;32mif\u001b[0m \u001b[1;32mnot\u001b[0m \u001b[1;34m'title'\u001b[0m \u001b[1;32min\u001b[0m \u001b[0mitem_properties\u001b[0m\u001b[1;33m:\u001b[0m\u001b[1;33m\u001b[0m\u001b[0m\n\u001b[0;32m   2449\u001b[0m                 \u001b[0mitem_properties\u001b[0m\u001b[1;33m[\u001b[0m\u001b[1;34m'title'\u001b[0m\u001b[1;33m]\u001b[0m \u001b[1;33m=\u001b[0m \u001b[0mtitle\u001b[0m\u001b[1;33m\u001b[0m\u001b[0m\n",
      "\u001b[1;31mRuntimeError\u001b[0m: Specify type in item_properties"
     ]
    }
   ],
   "source": [
    "item_list=[]\n",
    "for file in excel_files:\n",
    "    year = file[4:8]\n",
    "\n",
    "\n",
    "#year = excel_files[0][4:8]\n",
    "    \n",
    "   # df = pd.read_excel(file)\n",
    "    \n",
    "\n",
    "        \n",
    "    country = gis.content.add({}, file)\n",
    "    layers = country.publish(None, {\"Address\":\"Country\"})\n",
    "    #world_map.add_layer(country, { \"renderer\":\"ClassedSizeRenderer\", \"field_name\":\"Total\" })\n",
    "\n",
    "    #country.layer.\n",
    "#gis.content.add({\"title\":\"Fragile State Index: \"+year, \"tags\":\"Fragile State\"}, country)\n",
    "\n",
    "   # world_map.add_layer(country, { \"renderer\":\"ClassedSizeRenderer\", \"field_name\":\"Total\" })\n",
    "    #item = gis.content.add(item_properties)\n",
    "   # item.publish\n",
    "   # item_list.append(item)"
   ]
  },
  {
   "cell_type": "code",
   "execution_count": 11,
   "metadata": {},
   "outputs": [
    {
     "name": "stdout",
     "output_type": "stream",
     "text": [
      "<class 'arcgis.gis.Item'>\n",
      "<class 'arcgis.gis.Item'>\n",
      "<class 'arcgis.gis.Item'>\n",
      "<class 'arcgis.gis.Item'>\n",
      "<class 'arcgis.gis.Item'>\n",
      "<class 'arcgis.gis.Item'>\n",
      "<class 'arcgis.gis.Item'>\n",
      "<class 'arcgis.gis.Item'>\n",
      "<class 'arcgis.gis.Item'>\n",
      "<class 'arcgis.gis.Item'>\n"
     ]
    }
   ],
   "source": [
    "\n",
    "\n",
    "search_item=gis.content.search(query=\"title:\"+ \"Fragile State\" + \" AND owner: \" + \"sspiegel_slu\",sort_order='asc' )\n",
    "for item in search_item:\n",
    "    print(type(item))"
   ]
  },
  {
   "cell_type": "code",
   "execution_count": 8,
   "metadata": {
    "scrolled": true
   },
   "outputs": [
    {
     "data": {
      "text/plain": [
       "[<Item title:\"Fragile State index 2018\" type:Feature Collection owner:sspiegel_slu>,\n",
       " <Item title:\"Fragile State index 2013\" type:Feature Collection owner:sspiegel_slu>,\n",
       " <Item title:\"Fragile State index 2014\" type:Feature Collection owner:sspiegel_slu>,\n",
       " <Item title:\"Fragile State index 2016\" type:Feature Collection owner:sspiegel_slu>,\n",
       " <Item title:\"Fragile State index 2012\" type:Feature Collection owner:sspiegel_slu>,\n",
       " <Item title:\"Fragile State index 2011\" type:Feature Collection owner:sspiegel_slu>,\n",
       " <Item title:\"Fragile State index 2015\" type:Feature Collection owner:sspiegel_slu>,\n",
       " <Item title:\"Fragile State index 2006\" type:Feature Collection owner:sspiegel_slu>,\n",
       " <Item title:\"Fragile State index 2008\" type:Feature Collection owner:sspiegel_slu>,\n",
       " <Item title:\"Fragile State index 2010\" type:Feature Collection owner:sspiegel_slu>]"
      ]
     },
     "execution_count": 8,
     "metadata": {},
     "output_type": "execute_result"
    }
   ],
   "source": [
    "search_item"
   ]
  },
  {
   "cell_type": "code",
   "execution_count": 9,
   "metadata": {
    "scrolled": true
   },
   "outputs": [
    {
     "ename": "TypeError",
     "evalue": "'NoneType' object is not iterable",
     "output_type": "error",
     "traceback": [
      "\u001b[1;31m---------------------------------------------------------------------------\u001b[0m",
      "\u001b[1;31mTypeError\u001b[0m                                 Traceback (most recent call last)",
      "\u001b[1;32m<ipython-input-9-b6f4183d4514>\u001b[0m in \u001b[0;36m<module>\u001b[1;34m\u001b[0m\n\u001b[0;32m      1\u001b[0m \u001b[1;32mfor\u001b[0m \u001b[0mitem\u001b[0m \u001b[1;32min\u001b[0m \u001b[0msearch_item\u001b[0m\u001b[1;33m:\u001b[0m\u001b[1;33m\u001b[0m\u001b[0m\n\u001b[1;32m----> 2\u001b[1;33m     \u001b[0mworld_map\u001b[0m\u001b[1;33m.\u001b[0m\u001b[0madd_layer\u001b[0m\u001b[1;33m(\u001b[0m\u001b[0mitem\u001b[0m\u001b[1;33m)\u001b[0m\u001b[1;33m\u001b[0m\u001b[0m\n\u001b[0m",
      "\u001b[1;32m~\\AppData\\Local\\ESRI\\conda\\envs\\my_arcgispro-py3\\lib\\site-packages\\arcgis\\widgets\\_mapview.py\u001b[0m in \u001b[0;36madd_layer\u001b[1;34m(self, item, options)\u001b[0m\n\u001b[0;32m    466\u001b[0m \u001b[1;33m\u001b[0m\u001b[0m\n\u001b[0;32m    467\u001b[0m         \"\"\"\n\u001b[1;32m--> 468\u001b[1;33m         \u001b[0mself\u001b[0m\u001b[1;33m.\u001b[0m\u001b[0m_add_layer_to_widget\u001b[0m\u001b[1;33m(\u001b[0m\u001b[0mitem\u001b[0m\u001b[1;33m,\u001b[0m \u001b[0moptions\u001b[0m\u001b[1;33m)\u001b[0m\u001b[1;33m\u001b[0m\u001b[0m\n\u001b[0m\u001b[0;32m    469\u001b[0m \u001b[1;33m\u001b[0m\u001b[0m\n\u001b[0;32m    470\u001b[0m     \u001b[1;32mdef\u001b[0m \u001b[0m_add_layer_to_webmap\u001b[0m\u001b[1;33m(\u001b[0m\u001b[0mself\u001b[0m\u001b[1;33m,\u001b[0m \u001b[0mitem\u001b[0m\u001b[1;33m,\u001b[0m \u001b[0moptions\u001b[0m\u001b[1;33m)\u001b[0m\u001b[1;33m:\u001b[0m\u001b[1;33m\u001b[0m\u001b[0m\n",
      "\u001b[1;32m~\\AppData\\Local\\ESRI\\conda\\envs\\my_arcgispro-py3\\lib\\site-packages\\arcgis\\widgets\\_mapview.py\u001b[0m in \u001b[0;36m_add_layer_to_widget\u001b[1;34m(self, item, options)\u001b[0m\n\u001b[0;32m    481\u001b[0m \u001b[1;33m\u001b[0m\u001b[0m\n\u001b[0;32m    482\u001b[0m         \u001b[1;32mif\u001b[0m \u001b[0misinstance\u001b[0m\u001b[1;33m(\u001b[0m\u001b[0mitem\u001b[0m\u001b[1;33m,\u001b[0m \u001b[0mItem\u001b[0m\u001b[1;33m)\u001b[0m\u001b[1;33m:\u001b[0m\u001b[1;33m\u001b[0m\u001b[0m\n\u001b[1;32m--> 483\u001b[1;33m             \u001b[1;32mfor\u001b[0m \u001b[0mlayer\u001b[0m \u001b[1;32min\u001b[0m \u001b[0mitem\u001b[0m\u001b[1;33m.\u001b[0m\u001b[0mlayers\u001b[0m\u001b[1;33m:\u001b[0m\u001b[1;33m\u001b[0m\u001b[0m\n\u001b[0m\u001b[0;32m    484\u001b[0m                 \u001b[0mself\u001b[0m\u001b[1;33m.\u001b[0m\u001b[0m_add_layer_to_widget\u001b[0m\u001b[1;33m(\u001b[0m\u001b[0mlayer\u001b[0m\u001b[1;33m,\u001b[0m \u001b[0moptions\u001b[0m\u001b[1;33m)\u001b[0m\u001b[1;33m\u001b[0m\u001b[0m\n\u001b[0;32m    485\u001b[0m         \u001b[1;32melif\u001b[0m \u001b[0misinstance\u001b[0m\u001b[1;33m(\u001b[0m\u001b[0mitem\u001b[0m\u001b[1;33m,\u001b[0m \u001b[0mLayer\u001b[0m\u001b[1;33m)\u001b[0m\u001b[1;33m:\u001b[0m\u001b[1;33m\u001b[0m\u001b[0m\n",
      "\u001b[1;31mTypeError\u001b[0m: 'NoneType' object is not iterable"
     ]
    }
   ],
   "source": [
    "for item in search_item:\n",
    "    world_map.add_layer(item)"
   ]
  },
  {
   "cell_type": "code",
   "execution_count": null,
   "metadata": {},
   "outputs": [],
   "source": []
  },
  {
   "cell_type": "markdown",
   "metadata": {},
   "source": [
    "- Now we will create webmap properties to create our lovely webmap!"
   ]
  },
  {
   "cell_type": "code",
   "execution_count": 8,
   "metadata": {},
   "outputs": [],
   "source": [
    "webmap_properties = {'title':'Project 2',\n",
    "                    'snippet': 'Project 2 saved as jupyter notebook',\n",
    "                    'tags':['Project 2', 'fragile state']}"
   ]
  },
  {
   "cell_type": "markdown",
   "metadata": {},
   "source": [
    "- Create the webmap item."
   ]
  },
  {
   "cell_type": "code",
   "execution_count": 9,
   "metadata": {},
   "outputs": [],
   "source": [
    "webmap_item = world_map.save(webmap_properties)\n"
   ]
  },
  {
   "cell_type": "code",
   "execution_count": 10,
   "metadata": {
    "scrolled": true
   },
   "outputs": [
    {
     "data": {
      "text/html": [
       "<div class=\"item_container\" style=\"height: auto; overflow: hidden; border: 1px solid #cfcfcf; border-radius: 2px; background: #f6fafa; line-height: 1.21429em; padding: 10px;\">\n",
       "                    <div class=\"item_left\" style=\"width: 210px; float: left;\">\n",
       "                       <a href='http://SLUSTL.maps.arcgis.com/home/item.html?id=2afca8a780a9472cbd0362da215e886c' target='_blank'>\n",
       "                        <img src='http://static.arcgis.com/images/desktopapp.png' class=\"itemThumbnail\">\n",
       "                       </a>\n",
       "                    </div>\n",
       "\n",
       "                    <div class=\"item_right\"     style=\"float: none; width: auto; overflow: hidden;\">\n",
       "                        <a href='http://SLUSTL.maps.arcgis.com/home/item.html?id=2afca8a780a9472cbd0362da215e886c' target='_blank'><b>Project 2</b>\n",
       "                        </a>\n",
       "                        <br/>Project 2 saved as jupyter notebook<img src='http://SLUSTL.maps.arcgis.com/home/js/jsapi/esri/css/images/item_type_icons/maps16.png' style=\"vertical-align:middle;\">Web Map by sspiegel_slu\n",
       "                        <br/>Last Modified: October 24, 2018\n",
       "                        <br/>0 comments, 0 views\n",
       "                    </div>\n",
       "                </div>\n",
       "                "
      ],
      "text/plain": [
       "<Item title:\"Project 2\" type:Web Map owner:sspiegel_slu>"
      ]
     },
     "execution_count": 10,
     "metadata": {},
     "output_type": "execute_result"
    }
   ],
   "source": [
    "webmap_item"
   ]
  },
  {
   "cell_type": "code",
   "execution_count": 8,
   "metadata": {},
   "outputs": [
    {
     "name": "stdout",
     "output_type": "stream",
     "text": [
      "South Sudan: ('no trend', False, 0.13312848419605983, 1.5018785229652765)\n",
      "Somalia: ('no trend', False, 1.0, 0)\n",
      "Yemen: ('increasing', True, 2.55808200499974e-05, 4.209613244997285)\n",
      "Syria: ('increasing', True, 0.0010077080415074047, 3.288365827365609)\n",
      "Central African Republic: ('increasing', True, 0.0005061006025992576, 3.4775065936934095)\n",
      "Congo Democratic Republic: ('no trend', False, 0.08817977046872749, 1.705078577152538)\n",
      "Sudan: ('decreasing', True, 0.017343359162423466, -2.379346616737596)\n",
      "Chad: ('no trend', False, 0.5829505577618919, -0.5490799884779067)\n",
      "Afghanistan: ('no trend', False, 0.22325693312687278, 1.2179132693946702)\n",
      "Zimbabwe: ('decreasing', True, 0.0027949345698872197, -2.989435492824159)\n",
      "Iraq: ('decreasing', True, 0.0060437194011075945, -2.745399942389534)\n",
      "Haiti: ('no trend', False, 0.20012811767860228, 1.2811866397817824)\n",
      "Guinea: ('no trend', False, 0.393914842549449, 0.852539288576269)\n",
      "Nigeria: ('increasing', True, 0.0041383639950869355, 2.8674177176068465)\n",
      "Ethiopia: ('no trend', False, 0.10076777202016696, 1.6411428194080433)\n",
      "Guinea Bissau: ('increasing', True, 0.008706155452434139, 2.6233821671722213)\n",
      "Kenya: ('no trend', False, 0.9513521309544037, 0.061008887608656304)\n",
      "Burundi: ('increasing', True, 0.010539183529940876, 2.5576178657288073)\n",
      "Eritrea: ('increasing', True, 1.4800883016974353e-05, 4.331631020214598)\n",
      "Pakistan: ('no trend', False, 0.08817977046872749, -1.705078577152538)\n",
      "Niger: ('no trend', False, 0.3381805088935079, 0.9577665126050852)\n",
      "Myanmar: ('no trend', False, 0.05858757531048897, -1.8912755158683454)\n",
      "Cameroon: ('increasing', True, 0.02066579072559671, 2.3140352118498733)\n",
      "Uganda: ('no trend', False, 0.8075540639127232, 0.24358265387893402)\n",
      "Libya: ('increasing', True, 0.0018616893784448862, 3.1114532680414717)\n",
      "Cote d'Ivoire: ('decreasing', True, 0.00031879975807957983, -3.599524368910722)\n",
      "Mali: ('increasing', True, 0.0002976056847507902, 3.617375253786656)\n",
      "North Korea: ('decreasing', True, 0.00041250971324147123, -3.531948481244543)\n",
      "Congo Republic: ('no trend', False, 0.5841759753055473, -0.5472951500600487)\n",
      "Liberia: ('no trend', False, 0.4277105102974643, 0.793115538912532)\n",
      "Mauritania: ('increasing', True, 0.0041383639950869355, 2.8674177176068465)\n",
      "Bangladesh: ('decreasing', True, 0.00031879975807957983, -3.599524368910722)\n",
      "Angola: ('increasing', True, 0.008706155452434139, 2.6233821671722213)\n",
      "Rwanda: ('no trend', False, 0.32989240808436815, 0.9743306155157361)\n",
      "Sierra Leone: ('decreasing', True, 0.00041250971324147123, -3.531948481244543)\n",
      "Egypt: ('no trend', False, 0.5829505577618919, 0.5490799884779067)\n",
      "Mozambique: ('increasing', True, 2.55808200499974e-05, 4.209613244997285)\n",
      "Timor-Leste: ('decreasing', True, 0.0008247091822877195, -3.344365800670682)\n",
      "Nepal: ('decreasing', True, 0.0008787428132650543, -3.326721084000236)\n",
      "Swaziland: ('increasing', True, 9.281898133695066e-05, 3.9086352435453273)\n",
      "Zambia: ('increasing', True, 0.00031879975807957983, 3.599524368910722)\n",
      "Djibouti: ('increasing', True, 0.00016227556647607777, 3.771490147280579)\n",
      "Gambia: ('increasing', True, 8.442315356127494e-06, 4.453648795431911)\n",
      "Lebanon: ('no trend', False, 0.5021582515007486, -0.6710977636952193)\n",
      "Burkina Faso: ('no trend', False, 0.06771933229500005, -1.8268699040920051)\n",
      "Venezuela: ('no trend', False, 0.714832260960871, 0.36537398081840106)\n",
      "Philippines: ('no trend', False, 0.27302541331760244, 1.0961219424552031)\n",
      "Malawi: ('decreasing', True, 0.0041383639950869355, -2.8674177176068465)\n",
      "Togo: ('no trend', False, 0.10076777202016696, -1.6411428194080433)\n",
      "Sri Lanka: ('decreasing', True, 0.0006248437966112075, -3.420594687875304)\n",
      "Papua New Guinea: ('no trend', False, 0.7843554693542343, 0.27364757503002435)\n",
      "Iran: ('no trend', False, 0.5829505577618919, -0.5490799884779067)\n",
      "Cambodia: ('no trend', False, 0.4959098130618558, -0.6809394365351064)\n",
      "Madagascar: ('increasing', True, 0.0007792699724176178, 3.360054858486334)\n",
      "Equatorial Guinea: ('decreasing', True, 0.017343359162423466, -2.379346616737596)\n",
      "Solomon Islands: ('decreasing', True, 0.0006248437966112075, -3.420594687875304)\n",
      "Comoros: ('no trend', False, 0.8377619139838508, 0.20475708983698054)\n",
      "Turkey: ('no trend', False, 0.11335600758562636, 1.5832872502130713)\n",
      "Guatemala: ('no trend', False, 1.0, 0.0)\n",
      "Laos: ('decreasing', True, 0.0019356217672188425, -3.0999364366596374)\n",
      "Lesotho: ('no trend', False, 0.4116788930670441, -0.820942725090073)\n",
      "Senegal: ('increasing', True, 0.0007792699724176178, 3.360054858486334)\n",
      "Tajikistan: ('decreasing', True, 0.0007922485913105515, -3.355488818476097)\n",
      "Tanzania: ('no trend', False, 0.42942272684104177, 0.7901798760112801)\n",
      "Uzbekistan: ('decreasing', True, 2.631276625475465e-06, -4.697684345866536)\n",
      "Kyrgyz Republic: ('decreasing', True, 0.00031879975807957983, -3.599524368910722)\n",
      "Israel and West Bank: ('decreasing', True, 0.04487319084990271, -2.005841223720942)\n",
      "Honduras: ('no trend', False, 0.11335600758562636, 1.5832872502130713)\n",
      "Russia: ('no trend', False, 0.06771933229500005, -1.8268699040920051)\n",
      "Jordan: ('no trend', False, 0.37269149047151817, 0.8914431257208641)\n",
      "Colombia: ('decreasing', True, 4.747060882381859e-06, -4.575666570649223)\n",
      "India: ('no trend', False, 0.11335600758562636, 1.5832872502130713)\n",
      "Algeria: ('no trend', False, 1.0, 0.0)\n",
      "Benin: ('increasing', True, 0.03273560958832067, 2.135311066302971)\n",
      "Nicaragua: ('decreasing', True, 0.0010242815039822606, -3.283770900360292)\n",
      "Bolivia: ('decreasing', True, 0.0010077080415074047, -3.288365827365609)\n",
      "Thailand: ('no trend', False, 0.9515319756534193, 0.060783067385483086)\n",
      "Azerbaijan: ('decreasing', True, 0.000335530406775586, -3.586200975743502)\n",
      "Fiji: ('no trend', False, 0.5841759753055473, -0.5472951500600487)\n",
      "Micronesia: ('no trend', False, 0.06702992815352737, 1.831473308166845)\n",
      "Bhutan: ('decreasing', True, 3.459380487758068e-05, -4.140905115941878)\n",
      "Ecuador: ('decreasing', True, 0.006233518146926853, -2.735238032346739)\n",
      "Morocco: ('decreasing', True, 0.008706155452434139, -2.6233821671722213)\n",
      "Georgia: ('decreasing', True, 0.004931500366306407, -2.811474473427341)\n",
      "South Africa: ('increasing', True, 0.013784595818053136, 2.4628281752702192)\n",
      "Turkmenistan: ('decreasing', True, 5.8417454587011974e-05, -4.019113789002412)\n",
      "Ukraine: ('no trend', False, 0.8075540639127232, -0.24358265387893402)\n",
      "Gabon: ('no trend', False, 0.11335600758562636, -1.5832872502130713)\n",
      "Maldives: ('decreasing', True, 0.00012758924559252982, -3.8310660504203407)\n",
      "China: ('decreasing', True, 0.0005061006025992576, -3.4775065936934095)\n",
      "Indonesia: ('decreasing', True, 4.747060882381859e-06, -4.575666570649223)\n",
      "Sao Tome and Principe: ('decreasing', True, 0.00037451727786175226, -3.5574184753903166)\n",
      "Tunisia: ('increasing', True, 0.008957501099684517, 2.6136718975757725)\n",
      "Mexico: ('no trend', False, 0.14387939352256596, -1.4614959232736042)\n",
      "Bosnia and Herzegovina: ('decreasing', True, 1.4800883016974353e-05, -4.331631020214598)\n",
      "El Salvador: ('decreasing', True, 0.0041383639950869355, -2.8674177176068465)\n",
      "Belarus: ('decreasing', True, 1.4800883016974353e-05, -4.331631020214598)\n",
      "Guyana: ('decreasing', True, 0.002611416335629224, -3.0101233253302677)\n",
      "Saudi Arabia: ('decreasing', True, 0.00041250971324147123, -3.531948481244543)\n",
      "Peru: ('decreasing', True, 3.459380487758068e-05, -4.140905115941878)\n",
      "Paraguay: ('no trend', False, 0.05952777519946828, -1.8842750889499755)\n",
      "Moldova: ('decreasing', True, 5.8417454587011974e-05, -4.019113789002412)\n",
      "Armenia: ('decreasing', True, 0.040134998417235446, -2.0523568127251828)\n",
      "Dominican Republic: ('decreasing', True, 1.4800883016974353e-05, -4.331631020214598)\n",
      "Namibia: ('decreasing', True, 0.009331835083887574, -2.5996519627852313)\n",
      "Brazil: ('no trend', False, 1.0, 0)\n",
      "Vietnam: ('decreasing', True, 1.4800883016974353e-05, -4.331631020214598)\n",
      "Ghana: ('increasing', True, 0.0020302944356094255, 3.0857646659568374)\n",
      "Serbia: ('decreasing', True, 0.0027795477272285485, -2.991121614150501)\n",
      "Cape Verde: ('decreasing', True, 1.5597933832323108e-05, -4.320070532339573)\n",
      "Samoa: ('decreasing', True, 5.214911582429593e-05, -4.045780339810076)\n",
      "Macedonia: ('decreasing', True, 0.0002786876842340025, -3.634345051015831)\n",
      "Bahrain: ('increasing', True, 0.0010242815039822606, 3.283770900360292)\n",
      "Suriname: ('decreasing', True, 0.00012758924559252982, -3.8310660504203407)\n",
      "Belize: ('decreasing', True, 7.25118365456634e-05, -3.967889837935353)\n",
      "Malaysia: ('no trend', False, 0.06078433557619589, -1.875060974618315)\n",
      "Kazakhstan: ('decreasing', True, 0.0007922485913105515, -3.355488818476097)\n",
      "Jamaica: ('decreasing', True, 0.023642218909198487, -2.2628940883683475)\n",
      "Cuba: ('decreasing', True, 3.459380487758068e-05, -4.140905115941878)\n",
      "Botswana: ('decreasing', True, 0.0041383639950869355, -2.8674177176068465)\n",
      "Cyprus: ('decreasing', True, 9.281898133695066e-05, -3.9086352435453273)\n",
      "Albania: ('decreasing', True, 3.459380487758068e-05, -4.140905115941878)\n",
      "Grenada: ('decreasing', True, 2.877817991331355e-05, -4.182925436074824)\n",
      "Brunei Darussalam: ('decreasing', True, 1.5597933832323108e-05, -4.320070532339573)\n",
      "Seychelles: ('decreasing', True, 1.5597933832323108e-05, -4.320070532339573)\n",
      "Kuwait: ('decreasing', True, 0.0006248437966112075, -3.420594687875304)\n",
      "Antigua and Barbuda: ('decreasing', True, 5.214911582429593e-05, -4.045780339810076)\n",
      "Montenegro: ('no trend', False, 0.10061374572461967, -1.641885450180146)\n",
      "Greece: ('increasing', True, 5.214911582429593e-05, 4.045780339810076)\n",
      "Mongolia: ('decreasing', True, 0.004062087768726297, -2.8732995378152557)\n",
      "Trinidad and Tobago: ('decreasing', True, 1.5597933832323108e-05, -4.320070532339573)\n",
      "Oman: ('increasing', True, 0.0010242815039822606, 3.283770900360292)\n",
      "Bulgaria: ('decreasing', True, 0.00015966707824310866, -3.7755311351234773)\n",
      "Hungary: ('no trend', False, 0.8075540639127232, 0.24358265387893402)\n",
      "Bahamas: ('decreasing', True, 0.0002786876842340025, -3.634345051015831)\n",
      "Panama: ('decreasing', True, 5.214911582429593e-05, -4.045780339810076)\n",
      "Romania: ('decreasing', True, 5.214911582429593e-05, -4.045780339810076)\n",
      "Croatia: ('decreasing', True, 2.877817991331355e-05, -4.182925436074824)\n",
      "Barbados: ('decreasing', True, 5.214911582429593e-05, -4.045780339810076)\n",
      "Qatar: ('decreasing', True, 0.0004701692793138701, -3.4971999547510824)\n",
      "Argentina: ('increasing', True, 0.0010077080415074047, 3.288365827365609)\n",
      "Latvia: ('decreasing', True, 0.00012126237486764779, -3.8435599193453474)\n",
      "Italy: ('no trend', False, 0.7843554693542343, 0.27364757503002435)\n",
      "Costa Rica: ('decreasing', True, 0.0012229573327571241, -3.2334710432587843)\n",
      "Estonia: ('decreasing', True, 0.0002786876842340025, -3.634345051015831)\n",
      "United Arab Emirates: ('decreasing', True, 0.0002786876842340025, -3.634345051015831)\n",
      "Slovak Republic: ('decreasing', True, 4.6518089251712524e-05, -4.072465514827367)\n",
      "Poland: ('decreasing', True, 0.00346685594527929, -2.9229918465472084)\n",
      "Spain: ('no trend', False, 0.3381805088935079, -0.9577665126050852)\n",
      "Chile: ('no trend', False, 0.11475673431864908, 1.5771686070446058)\n",
      "Mauritius: ('no trend', False, 0.7843554693542343, -0.27364757503002435)\n",
      "Lithuania: ('decreasing', True, 6.597429967891699e-06, -4.506279096760279)\n",
      "Czech Republic: ('decreasing', True, 0.02066579072559671, -2.3140352118498733)\n",
      "United States: ('increasing', True, 0.021138499726665705, 2.305501555695177)\n",
      "Malta: ('decreasing', True, 5.214911582429593e-05, -4.045780339810076)\n",
      "South Korea: ('decreasing', True, 0.008706155452434139, -2.6233821671722213)\n",
      "Uruguay: ('decreasing', True, 0.001076632864587701, -3.2696955654783966)\n",
      "Japan: ('increasing', True, 0.046744941053711075, 1.9886038958388508)\n",
      "United Kingdom: ('no trend', False, 0.670485725622612, -0.4254814716983816)\n",
      "France: ('no trend', False, 0.05133589454610843, -1.9486612310314722)\n",
      "Singapore: ('no trend', False, 0.6312218204782534, -0.48000783692661914)\n",
      "Slovenia: ('decreasing', True, 0.0002786876842340025, -3.634345051015831)\n",
      "Belgium: ('no trend', False, 0.9034200063616222, 0.12134218714185142)\n",
      "Portugal: ('no trend', False, 0.07528744391014963, -1.7787092376951583)\n",
      "Austria: ('no trend', False, 0.4939000644297926, 0.6841189375750608)\n",
      "Netherlands: ('no trend', False, 0.3059366246274873, -1.0237854491849028)\n",
      "Germany: ('decreasing', True, 4.048160400960121e-05, -4.1047136254503656)\n",
      "Canada: ('decreasing', True, 0.028583716099415568, -2.189180600240195)\n",
      "New Zealand: ('no trend', False, 0.6814602066914706, -0.4104713625450365)\n",
      "Sweden: ('no trend', False, 0.11475673431864908, 1.5771686070446058)\n",
      "Australia: ('no trend', False, 0.5021582515007486, -0.6710977636952193)\n",
      "Luxembourg: ('decreasing', True, 0.00016227556647607777, -3.771490147280579)\n",
      "Ireland: ('no trend', False, 0.5371338571769022, 0.6171529331913674)\n",
      "Iceland: ('no trend', False, 0.19261627432960227, -1.302878414515109)\n",
      "Denmark: ('decreasing', True, 0.015356038452223775, -2.4238714897403306)\n",
      "Switzerland: ('no trend', False, 0.7329064904578018, 0.34126181639496755)\n",
      "Norway: ('no trend', False, 0.19261627432960227, 1.302878414515109)\n",
      "Finland: ('no trend', False, 0.4939000644297926, -0.6841189375750608)\n"
     ]
    }
   ],
   "source": [
    "#create a list of numpy arrays\n",
    "from mk_test import mk_test\n",
    "frames = []\n",
    "\n",
    "for file in excel_files:\n",
    "    df = pd.read_excel(file)\n",
    "    #print(len(df))\n",
    "    frames.append(df)\n",
    "\n",
    "frames = pd.concat(frames)\n",
    "\n",
    "\n",
    "for country in country_list:\n",
    "    #z=frames.loc[frames['Country']==country_list[-1]]\n",
    "    z=frames.loc[frames['Country']==country]\n",
    "    z_num = z.values[0:]\n",
    "    z_num= z_num[:,3]\n",
    "\n",
    "    x = mk_test(z_num)\n",
    "    x = country+': '+str(mk_test(z_num))\n",
    "    print(x)\n",
    "    \n",
    "    \n",
    "\n",
    "  #  for index, row in df.iterrows():\n",
    "    #    country = row[0]\n",
    "     #   time = file[4:8]\n",
    "     #   rank = row[3]\n",
    "    \n",
    "    \n",
    "    \n"
   ]
  },
  {
   "cell_type": "code",
   "execution_count": 8,
   "metadata": {},
   "outputs": [
    {
     "data": {
      "text/plain": [
       "('no trend', False, 0.4939000644297926, -0.6841189375750608)"
      ]
     },
     "execution_count": 8,
     "metadata": {},
     "output_type": "execute_result"
    }
   ],
   "source": [
    "x"
   ]
  },
  {
   "cell_type": "code",
   "execution_count": 9,
   "metadata": {},
   "outputs": [],
   "source": [
    "x= list(x)"
   ]
  },
  {
   "cell_type": "code",
   "execution_count": 10,
   "metadata": {},
   "outputs": [],
   "source": [
    "x.append(country_list[-1])"
   ]
  },
  {
   "cell_type": "code",
   "execution_count": 11,
   "metadata": {},
   "outputs": [
    {
     "data": {
      "text/plain": [
       "['no trend', False, 0.4939000644297926, -0.6841189375750608, 'Finland']"
      ]
     },
     "execution_count": 11,
     "metadata": {},
     "output_type": "execute_result"
    }
   ],
   "source": [
    "x"
   ]
  },
  {
   "cell_type": "code",
   "execution_count": null,
   "metadata": {},
   "outputs": [],
   "source": []
  }
 ],
 "metadata": {
  "kernelspec": {
   "display_name": "Python 3",
   "language": "python",
   "name": "python3"
  },
  "language_info": {
   "codemirror_mode": {
    "name": "ipython",
    "version": 3
   },
   "file_extension": ".py",
   "mimetype": "text/x-python",
   "name": "python",
   "nbconvert_exporter": "python",
   "pygments_lexer": "ipython3",
   "version": "3.6.6"
  }
 },
 "nbformat": 4,
 "nbformat_minor": 2
}
