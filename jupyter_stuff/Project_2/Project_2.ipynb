{
 "cells": [
  {
   "cell_type": "markdown",
   "metadata": {},
   "source": [
    "# Project 2: Fragile State Index Webmap.  "
   ]
  },
  {
   "cell_type": "markdown",
   "metadata": {},
   "source": [
    " - Import ArcGIS and Import GIS (as well as all the other libraries).  "
   ]
  },
  {
   "cell_type": "code",
   "execution_count": 1,
   "metadata": {},
   "outputs": [],
   "source": [
    "from arcgis.gis import GIS\n",
    "from arcgis.geocoding import Geocoder, get_geocoders\n",
    "import pandas as pd\n",
    "import os \n",
    "import glob\n",
    "import numpy as np\n",
    "import json\n",
    "from datetime import date\n",
    "\n"
   ]
  },
  {
   "cell_type": "markdown",
   "metadata": {},
   "source": [
    "- Set GIS to Arcgis home with username and password (yes, this is my password because I'm too lazy to input it everytime.  Please don't mess with anything.)"
   ]
  },
  {
   "cell_type": "code",
   "execution_count": 2,
   "metadata": {},
   "outputs": [],
   "source": [
    "gis = GIS(\"http://slustl.maps.arcgis.com/home\",\"sspiegel_slu\",\"Apples*200\")"
   ]
  },
  {
   "cell_type": "markdown",
   "metadata": {},
   "source": [
    "- Create my world map."
   ]
  },
  {
   "cell_type": "code",
   "execution_count": 3,
   "metadata": {},
   "outputs": [],
   "source": [
    "world_map = gis.map()\n",
    "world_map.basemap = 'hybrid'"
   ]
  },
  {
   "cell_type": "code",
   "execution_count": 4,
   "metadata": {},
   "outputs": [],
   "source": [
    "#set the current working directory via the variable 'path'.  Note in this case, path is the current working directory,\n",
    "#however one may change it to a different folder\n",
    "path = os.getcwd()\n",
    "os.chdir(path)"
   ]
  },
  {
   "cell_type": "markdown",
   "metadata": {},
   "source": [
    "- Rename the files with my initials at the end."
   ]
  },
  {
   "cell_type": "code",
   "execution_count": 5,
   "metadata": {},
   "outputs": [],
   "source": [
    "#list the excel files in the directory (or wherever they may be located)\n",
    "excel_files = glob.glob('*.xlsx')\n",
    "years = []\n",
    "for file in excel_files:\n",
    "\n",
    "    #print(year)\n",
    "    if '_sss.xlsx' not in file:\n",
    "       # print('True')\n",
    "        \n",
    "        #print(year)\n",
    "        combo = file[:-5]+'_sss'+'.xlsx'\n",
    "        years.append(combo[4:8])\n",
    "        #print(combo)\n",
    "        os.rename(file,combo)\n",
    "        \n",
    "country_list = []\n",
    "country = pd.read_excel(excel_files[-1])\n",
    "\n",
    "for index, row in country.iterrows():\n",
    "    country_list.append(row[0])\n",
    "    \n",
    "    \n",
    "    \n",
    "        \n",
    "\n",
    "        \n",
    "    \n"
   ]
  },
  {
   "cell_type": "code",
   "execution_count": 4,
   "metadata": {
    "scrolled": false
   },
   "outputs": [
    {
     "data": {
      "text/plain": [
       "['South Sudan',\n",
       " 'Somalia',\n",
       " 'Yemen',\n",
       " 'Syria',\n",
       " 'Central African Republic',\n",
       " 'Congo Democratic Republic',\n",
       " 'Sudan',\n",
       " 'Chad',\n",
       " 'Afghanistan',\n",
       " 'Zimbabwe',\n",
       " 'Iraq',\n",
       " 'Haiti',\n",
       " 'Guinea',\n",
       " 'Nigeria',\n",
       " 'Ethiopia',\n",
       " 'Guinea Bissau',\n",
       " 'Kenya',\n",
       " 'Burundi',\n",
       " 'Eritrea',\n",
       " 'Pakistan',\n",
       " 'Niger',\n",
       " 'Myanmar',\n",
       " 'Cameroon',\n",
       " 'Uganda',\n",
       " 'Libya',\n",
       " \"Cote d'Ivoire\",\n",
       " 'Mali',\n",
       " 'North Korea',\n",
       " 'Congo Republic',\n",
       " 'Liberia',\n",
       " 'Mauritania',\n",
       " 'Bangladesh',\n",
       " 'Angola',\n",
       " 'Rwanda',\n",
       " 'Sierra Leone',\n",
       " 'Egypt',\n",
       " 'Mozambique',\n",
       " 'Timor-Leste',\n",
       " 'Nepal',\n",
       " 'Swaziland',\n",
       " 'Zambia',\n",
       " 'Djibouti',\n",
       " 'Gambia',\n",
       " 'Lebanon',\n",
       " 'Burkina Faso',\n",
       " 'Venezuela',\n",
       " 'Philippines',\n",
       " 'Malawi',\n",
       " 'Togo',\n",
       " 'Sri Lanka',\n",
       " 'Papua New Guinea',\n",
       " 'Iran',\n",
       " 'Cambodia',\n",
       " 'Madagascar',\n",
       " 'Equatorial Guinea',\n",
       " 'Solomon Islands',\n",
       " 'Comoros',\n",
       " 'Turkey',\n",
       " 'Guatemala',\n",
       " 'Laos',\n",
       " 'Lesotho',\n",
       " 'Senegal',\n",
       " 'Tajikistan',\n",
       " 'Tanzania',\n",
       " 'Uzbekistan',\n",
       " 'Kyrgyz Republic',\n",
       " 'Israel and West Bank',\n",
       " 'Honduras',\n",
       " 'Russia',\n",
       " 'Jordan',\n",
       " 'Colombia',\n",
       " 'India',\n",
       " 'Algeria',\n",
       " 'Benin',\n",
       " 'Nicaragua',\n",
       " 'Bolivia',\n",
       " 'Thailand',\n",
       " 'Azerbaijan',\n",
       " 'Fiji',\n",
       " 'Micronesia',\n",
       " 'Bhutan',\n",
       " 'Ecuador',\n",
       " 'Morocco',\n",
       " 'Georgia',\n",
       " 'South Africa',\n",
       " 'Turkmenistan',\n",
       " 'Ukraine',\n",
       " 'Gabon',\n",
       " 'Maldives',\n",
       " 'China',\n",
       " 'Indonesia',\n",
       " 'Sao Tome and Principe',\n",
       " 'Tunisia',\n",
       " 'Mexico',\n",
       " 'Bosnia and Herzegovina',\n",
       " 'El Salvador',\n",
       " 'Belarus',\n",
       " 'Guyana',\n",
       " 'Saudi Arabia',\n",
       " 'Peru',\n",
       " 'Paraguay',\n",
       " 'Moldova',\n",
       " 'Armenia',\n",
       " 'Dominican Republic',\n",
       " 'Namibia',\n",
       " 'Brazil',\n",
       " 'Vietnam',\n",
       " 'Ghana',\n",
       " 'Serbia',\n",
       " 'Cape Verde',\n",
       " 'Samoa',\n",
       " 'Macedonia',\n",
       " 'Bahrain',\n",
       " 'Suriname',\n",
       " 'Belize',\n",
       " 'Malaysia',\n",
       " 'Kazakhstan',\n",
       " 'Jamaica',\n",
       " 'Cuba',\n",
       " 'Botswana',\n",
       " 'Cyprus',\n",
       " 'Albania',\n",
       " 'Grenada',\n",
       " 'Brunei Darussalam',\n",
       " 'Seychelles',\n",
       " 'Kuwait',\n",
       " 'Antigua and Barbuda',\n",
       " 'Montenegro',\n",
       " 'Greece',\n",
       " 'Mongolia',\n",
       " 'Trinidad and Tobago',\n",
       " 'Oman',\n",
       " 'Bulgaria',\n",
       " 'Hungary',\n",
       " 'Bahamas',\n",
       " 'Panama',\n",
       " 'Romania',\n",
       " 'Croatia',\n",
       " 'Barbados',\n",
       " 'Qatar',\n",
       " 'Argentina',\n",
       " 'Latvia',\n",
       " 'Italy',\n",
       " 'Costa Rica',\n",
       " 'Estonia',\n",
       " 'United Arab Emirates',\n",
       " 'Slovak Republic',\n",
       " 'Poland',\n",
       " 'Spain',\n",
       " 'Chile',\n",
       " 'Mauritius',\n",
       " 'Lithuania',\n",
       " 'Czech Republic',\n",
       " 'United States',\n",
       " 'Malta',\n",
       " 'South Korea',\n",
       " 'Uruguay',\n",
       " 'Japan',\n",
       " 'United Kingdom',\n",
       " 'France',\n",
       " 'Singapore',\n",
       " 'Slovenia',\n",
       " 'Belgium',\n",
       " 'Portugal',\n",
       " 'Austria',\n",
       " 'Netherlands',\n",
       " 'Germany',\n",
       " 'Canada',\n",
       " 'New Zealand',\n",
       " 'Sweden',\n",
       " 'Australia',\n",
       " 'Luxembourg',\n",
       " 'Ireland',\n",
       " 'Iceland',\n",
       " 'Denmark',\n",
       " 'Switzerland',\n",
       " 'Norway',\n",
       " 'Finland']"
      ]
     },
     "execution_count": 4,
     "metadata": {},
     "output_type": "execute_result"
    }
   ],
   "source": [
    "country_list"
   ]
  },
  {
   "cell_type": "code",
   "execution_count": null,
   "metadata": {},
   "outputs": [],
   "source": []
  },
  {
   "cell_type": "code",
   "execution_count": null,
   "metadata": {},
   "outputs": [],
   "source": []
  },
  {
   "cell_type": "markdown",
   "metadata": {},
   "source": [
    "- Now it's time to use the 'pandas' library. \n",
    "- We are going to read the excel files into a dataframe.  Also, we will do this with a 'for' loop.\n",
    "- Additionally, we will add the data to the 'world_map' GIS object."
   ]
  },
  {
   "cell_type": "code",
   "execution_count": 6,
   "metadata": {},
   "outputs": [],
   "source": [
    "item_list=[]\n",
    "for file in excel_files:\n",
    "    year = file[4:8]\n",
    "\n",
    "\n",
    "#year = excel_files[0][4:8]\n",
    "    \n",
    "    df = pd.read_excel(file)\n",
    "    \n",
    "\n",
    "        \n",
    "    country = gis.content.import_data(df, {\"Address\" : \"Country\"})\n",
    "    #world_map.add_layer(country, { \"renderer\":\"ClassedSizeRenderer\", \"field_name\":\"Total\" })\n",
    "    item_properties = {\n",
    "    \"title\": \"Fragile State index \"+year,\n",
    "    \"tags\" : \"fragile state,\"+year,\n",
    "    \"snippet\": \" Fragile State Index for year \"+year,\n",
    "    \"description\": \"\",\n",
    "    \"text\": json.dumps({\"featureCollection\": {\"layers\": [dict(country.layer)]}}),\n",
    "    \"type\": \"Feature Collection\",\n",
    "    #\"owner\":\"sspiegel_slu\",\n",
    "    \"typeKeywords\": \"Data, Feature Collection, Singlelayer\",\n",
    "    \"extent\" : \"\"\n",
    "}\n",
    "    #country.layer.\n",
    "#gis.content.add({\"title\":\"Fragile State Index: \"+year, \"tags\":\"Fragile State\"}, country)\n",
    "\n",
    "   # world_map.add_layer(country, { \"renderer\":\"ClassedSizeRenderer\", \"field_name\":\"Total\" })\n",
    "    item = gis.content.add(item_properties)\n",
    "    item.publish\n",
    "    item_list.append(item)"
   ]
  },
  {
   "cell_type": "code",
   "execution_count": 5,
   "metadata": {},
   "outputs": [],
   "source": [
    "\n",
    "\n",
    "search_item=gis.content.search(query=\"title:\"+ \"Fragile State\" + \" AND owner: \" + \"sspiegel_slu\",sort_order='asc' )"
   ]
  },
  {
   "cell_type": "code",
   "execution_count": 6,
   "metadata": {
    "scrolled": true
   },
   "outputs": [
    {
     "data": {
      "text/plain": [
       "[<Item title:\"Fragile State index 2018\" type:Feature Collection owner:sspiegel_slu>,\n",
       " <Item title:\"Fragile State index 2013\" type:Feature Collection owner:sspiegel_slu>,\n",
       " <Item title:\"Fragile State index 2014\" type:Feature Collection owner:sspiegel_slu>,\n",
       " <Item title:\"Fragile State index 2016\" type:Feature Collection owner:sspiegel_slu>,\n",
       " <Item title:\"Fragile State index 2012\" type:Feature Collection owner:sspiegel_slu>,\n",
       " <Item title:\"Fragile State index 2011\" type:Feature Collection owner:sspiegel_slu>,\n",
       " <Item title:\"Fragile State index 2006\" type:Feature Collection owner:sspiegel_slu>,\n",
       " <Item title:\"Fragile State index 2008\" type:Feature Collection owner:sspiegel_slu>,\n",
       " <Item title:\"Fragile State index 2015\" type:Feature Collection owner:sspiegel_slu>,\n",
       " <Item title:\"Fragile State index 2010\" type:Feature Collection owner:sspiegel_slu>]"
      ]
     },
     "execution_count": 6,
     "metadata": {},
     "output_type": "execute_result"
    }
   ],
   "source": [
    "search_item"
   ]
  },
  {
   "cell_type": "code",
   "execution_count": null,
   "metadata": {},
   "outputs": [],
   "source": [
    "for item in search_item:\n",
    "    world_map.add_layer()"
   ]
  },
  {
   "cell_type": "code",
   "execution_count": null,
   "metadata": {},
   "outputs": [],
   "source": []
  },
  {
   "cell_type": "markdown",
   "metadata": {},
   "source": [
    "- Now we will create webmap properties to create our lovely webmap!"
   ]
  },
  {
   "cell_type": "code",
   "execution_count": 8,
   "metadata": {},
   "outputs": [],
   "source": [
    "webmap_properties = {'title':'Project 2',\n",
    "                    'snippet': 'Project 2 saved as jupyter notebook',\n",
    "                    'tags':['Project 2', 'fragile state']}"
   ]
  },
  {
   "cell_type": "markdown",
   "metadata": {},
   "source": [
    "- Create the webmap item."
   ]
  },
  {
   "cell_type": "code",
   "execution_count": 9,
   "metadata": {},
   "outputs": [],
   "source": [
    "webmap_item = world_map.save(webmap_properties)\n"
   ]
  },
  {
   "cell_type": "code",
   "execution_count": 10,
   "metadata": {
    "scrolled": true
   },
   "outputs": [
    {
     "data": {
      "text/html": [
       "<div class=\"item_container\" style=\"height: auto; overflow: hidden; border: 1px solid #cfcfcf; border-radius: 2px; background: #f6fafa; line-height: 1.21429em; padding: 10px;\">\n",
       "                    <div class=\"item_left\" style=\"width: 210px; float: left;\">\n",
       "                       <a href='http://SLUSTL.maps.arcgis.com/home/item.html?id=2afca8a780a9472cbd0362da215e886c' target='_blank'>\n",
       "                        <img src='http://static.arcgis.com/images/desktopapp.png' class=\"itemThumbnail\">\n",
       "                       </a>\n",
       "                    </div>\n",
       "\n",
       "                    <div class=\"item_right\"     style=\"float: none; width: auto; overflow: hidden;\">\n",
       "                        <a href='http://SLUSTL.maps.arcgis.com/home/item.html?id=2afca8a780a9472cbd0362da215e886c' target='_blank'><b>Project 2</b>\n",
       "                        </a>\n",
       "                        <br/>Project 2 saved as jupyter notebook<img src='http://SLUSTL.maps.arcgis.com/home/js/jsapi/esri/css/images/item_type_icons/maps16.png' style=\"vertical-align:middle;\">Web Map by sspiegel_slu\n",
       "                        <br/>Last Modified: October 24, 2018\n",
       "                        <br/>0 comments, 0 views\n",
       "                    </div>\n",
       "                </div>\n",
       "                "
      ],
      "text/plain": [
       "<Item title:\"Project 2\" type:Web Map owner:sspiegel_slu>"
      ]
     },
     "execution_count": 10,
     "metadata": {},
     "output_type": "execute_result"
    }
   ],
   "source": [
    "webmap_item"
   ]
  },
  {
   "cell_type": "code",
   "execution_count": 7,
   "metadata": {},
   "outputs": [],
   "source": [
    "#create a list of numpy arrays\n",
    "from mk_test import mk_test\n",
    "frames = []\n",
    "\n",
    "for file in excel_files:\n",
    "    df = pd.read_excel(file)\n",
    "    #print(len(df))\n",
    "    frames.append(df)\n",
    "\n",
    "frames = pd.concat(frames)\n",
    "\n",
    "\n",
    "#for country in country_list:\n",
    "z=frames.loc[frames['Country']==country_list[-1]]\n",
    "z_num = z.values[0:]\n",
    "z_num= z_num[:,3]\n",
    "\n",
    "x = mk_test(z_num)\n",
    "\n",
    "    \n",
    "    \n",
    "\n",
    "  #  for index, row in df.iterrows():\n",
    "    #    country = row[0]\n",
    "     #   time = file[4:8]\n",
    "     #   rank = row[3]\n",
    "    \n",
    "    \n",
    "    \n"
   ]
  },
  {
   "cell_type": "code",
   "execution_count": 8,
   "metadata": {},
   "outputs": [
    {
     "data": {
      "text/plain": [
       "('no trend', False, 0.4939000644297926, -0.6841189375750608)"
      ]
     },
     "execution_count": 8,
     "metadata": {},
     "output_type": "execute_result"
    }
   ],
   "source": [
    "x"
   ]
  },
  {
   "cell_type": "code",
   "execution_count": 9,
   "metadata": {},
   "outputs": [],
   "source": [
    "x= list(x)"
   ]
  },
  {
   "cell_type": "code",
   "execution_count": 10,
   "metadata": {},
   "outputs": [],
   "source": [
    "x.append(country_list[-1])"
   ]
  },
  {
   "cell_type": "code",
   "execution_count": 11,
   "metadata": {},
   "outputs": [
    {
     "data": {
      "text/plain": [
       "['no trend', False, 0.4939000644297926, -0.6841189375750608, 'Finland']"
      ]
     },
     "execution_count": 11,
     "metadata": {},
     "output_type": "execute_result"
    }
   ],
   "source": [
    "x"
   ]
  },
  {
   "cell_type": "code",
   "execution_count": null,
   "metadata": {},
   "outputs": [],
   "source": []
  }
 ],
 "metadata": {
  "kernelspec": {
   "display_name": "Python 3",
   "language": "python",
   "name": "python3"
  },
  "language_info": {
   "codemirror_mode": {
    "name": "ipython",
    "version": 3
   },
   "file_extension": ".py",
   "mimetype": "text/x-python",
   "name": "python",
   "nbconvert_exporter": "python",
   "pygments_lexer": "ipython3",
   "version": "3.6.6"
  }
 },
 "nbformat": 4,
 "nbformat_minor": 2
}
