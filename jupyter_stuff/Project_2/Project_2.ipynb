{
 "cells": [
  {
   "cell_type": "markdown",
   "metadata": {},
   "source": [
    "# Project 2: Fragile State Index Webmap.  "
   ]
  },
  {
   "cell_type": "markdown",
   "metadata": {},
   "source": [
    " - Import ArcGIS and Import GIS (as well as all the other libraries).  "
   ]
  },
  {
   "cell_type": "code",
   "execution_count": 1,
   "metadata": {
    "scrolled": true
   },
   "outputs": [],
   "source": [
    "from arcgis.gis import GIS\n",
    "from arcgis.geocoding import Geocoder, get_geocoders\n",
    "from arcgis.features import FeatureLayer\n",
    "from arcgis import features\n",
    "import pandas as pd\n",
    "import os \n",
    "import glob\n",
    "import numpy as np\n",
    "import json\n",
    "from datetime import date\n",
    "import csv\n",
    "\n"
   ]
  },
  {
   "cell_type": "markdown",
   "metadata": {},
   "source": [
    "- Set GIS to Arcgis home with username and password (yes, this is my password because I'm too lazy to input it everytime.  Please don't mess with anything.)"
   ]
  },
  {
   "cell_type": "code",
   "execution_count": 2,
   "metadata": {},
   "outputs": [],
   "source": [
    "gis = GIS(\"http://slustl.maps.arcgis.com/home\",\"sspiegel_slu\",\"Apples*200\")"
   ]
  },
  {
   "cell_type": "markdown",
   "metadata": {},
   "source": [
    "- Create my world map."
   ]
  },
  {
   "cell_type": "code",
   "execution_count": 3,
   "metadata": {},
   "outputs": [],
   "source": [
    "world_map = gis.map()\n",
    "world_map.basemap = 'hybrid'\n"
   ]
  },
  {
   "cell_type": "code",
   "execution_count": 4,
   "metadata": {},
   "outputs": [],
   "source": [
    "world_map.center = [0,0]"
   ]
  },
  {
   "cell_type": "code",
   "execution_count": 5,
   "metadata": {},
   "outputs": [],
   "source": [
    "#set the current working directory via the variable 'path'.  Note in this case, path is the current working directory,\n",
    "#however one may change it to a different folder\n",
    "path = os.getcwd()\n",
    "os.chdir(path)"
   ]
  },
  {
   "cell_type": "markdown",
   "metadata": {},
   "source": [
    "- Rename the excel files with my initials at the end."
   ]
  },
  {
   "cell_type": "code",
   "execution_count": 6,
   "metadata": {},
   "outputs": [],
   "source": [
    "#list the excel files in the directory (or wherever they may be located)\n",
    "excel_files = glob.glob('*.xlsx')\n",
    "years = []\n",
    "for file in excel_files:\n",
    "\n",
    "    #print(year)\n",
    "    if '_sss.xlsx' not in file:\n",
    "       # print('True')\n",
    "        \n",
    "        #print(year)\n",
    "        combo = file[:-4]+'_sss'+'.xlsx'\n",
    "        years.append(combo[4:8])\n",
    "        #print(combo)\n",
    "        os.rename(file,combo)\n",
    "\n",
    "        \n",
    "        \n",
    "country_list = []\n",
    "#Get all the countries which start from the last year.  \n",
    "country = pd.read_excel(excel_files[-1])\n",
    "\n",
    "#Add the countries to the country list\n",
    "for index, row in country.iterrows():\n",
    "    country_list.append(row[0])\n",
    "    \n",
    "    \n",
    "    \n",
    "        \n",
    "\n",
    "        \n",
    "    \n"
   ]
  },
  {
   "cell_type": "markdown",
   "metadata": {},
   "source": [
    "- Print out the excel files for a quick check"
   ]
  },
  {
   "cell_type": "code",
   "execution_count": 7,
   "metadata": {
    "scrolled": true
   },
   "outputs": [
    {
     "name": "stdout",
     "output_type": "stream",
     "text": [
      "['fsi-2006_sss.xlsx', 'fsi-2007_sss.xlsx', 'fsi-2008_sss.xlsx', 'fsi-2009_sss.xlsx', 'fsi-2010_sss.xlsx', 'fsi-2011_sss.xlsx', 'fsi-2012_sss.xlsx', 'fsi-2013_sss.xlsx', 'fsi-2014_sss.xlsx', 'fsi-2015_sss.xlsx', 'fsi-2016_sss.xlsx', 'fsi-2017_sss.xlsx', 'fsi-2018_sss.xlsx']\n"
     ]
    }
   ],
   "source": [
    "print(excel_files)"
   ]
  },
  {
   "cell_type": "markdown",
   "metadata": {},
   "source": [
    "- Put the excel files into a dataframe, convert to csv, and then publish the csv's."
   ]
  },
  {
   "cell_type": "code",
   "execution_count": 12,
   "metadata": {},
   "outputs": [],
   "source": [
    "for file in excel_files:\n",
    "    df = pd.read_excel(file)\n",
    "    csv = file[0:-5].upper() + '.csv'\n",
    "    df.to_csv(csv)\n",
    "    csv_content = gis.content.add({}, csv)\n",
    "    csv_content.publish(None, {\"Address\":\"Country\"})"
   ]
  },
  {
   "cell_type": "markdown",
   "metadata": {},
   "source": [
    "- Search for the newly created feature services"
   ]
  },
  {
   "cell_type": "code",
   "execution_count": 8,
   "metadata": {},
   "outputs": [
    {
     "name": "stdout",
     "output_type": "stream",
     "text": [
      "10\n"
     ]
    }
   ],
   "source": [
    "\n",
    "\n",
    "search_item=gis.content.search(\"title:_SSS\",item_type=\"Feature Service\")\n",
    "print(len(search_item))"
   ]
  },
  {
   "cell_type": "markdown",
   "metadata": {},
   "source": [
    "- Print out the search item for assurance."
   ]
  },
  {
   "cell_type": "code",
   "execution_count": 9,
   "metadata": {
    "scrolled": true
   },
   "outputs": [
    {
     "data": {
      "text/plain": [
       "[<Item title:\"FSI-2008_SSS\" type:Feature Layer Collection owner:sspiegel_slu>,\n",
       " <Item title:\"FSI-2012_SSS\" type:Feature Layer Collection owner:sspiegel_slu>,\n",
       " <Item title:\"FSI-2009_SSS\" type:Feature Layer Collection owner:sspiegel_slu>,\n",
       " <Item title:\"FSI-2010_SSS\" type:Feature Layer Collection owner:sspiegel_slu>,\n",
       " <Item title:\"FSI-2013_SSS\" type:Feature Layer Collection owner:sspiegel_slu>,\n",
       " <Item title:\"FSI-2007_SSS\" type:Feature Layer Collection owner:sspiegel_slu>,\n",
       " <Item title:\"FSI-2015_SSS\" type:Feature Layer Collection owner:sspiegel_slu>,\n",
       " <Item title:\"FSI-2017_SSS\" type:Feature Layer Collection owner:sspiegel_slu>,\n",
       " <Item title:\"FSI-2018_SSS\" type:Feature Layer Collection owner:sspiegel_slu>,\n",
       " <Item title:\"FSI-2006_SSS\" type:Feature Layer Collection owner:sspiegel_slu>]"
      ]
     },
     "execution_count": 9,
     "metadata": {},
     "output_type": "execute_result"
    }
   ],
   "source": [
    "search_item"
   ]
  },
  {
   "cell_type": "markdown",
   "metadata": {},
   "source": [
    "- Create a class sized renderer."
   ]
  },
  {
   "cell_type": "code",
   "execution_count": 10,
   "metadata": {},
   "outputs": [],
   "source": [
    "classed_size_renderer = { \"renderer\": \"ClassedSizeRenderer\", \"field_name\":\"Total\"}"
   ]
  },
  {
   "cell_type": "code",
   "execution_count": 11,
   "metadata": {
    "scrolled": true
   },
   "outputs": [
    {
     "data": {
      "application/vnd.jupyter.widget-view+json": {
       "model_id": "c9f735c03ff544f28743e586c1192b3b",
       "version_major": 2,
       "version_minor": 0
      },
      "text/plain": [
       "MapView(basemap='hybrid', layout=Layout(height='400px', width='100%'))"
      ]
     },
     "metadata": {},
     "output_type": "display_data"
    }
   ],
   "source": [
    "world_map"
   ]
  },
  {
   "cell_type": "markdown",
   "metadata": {},
   "source": [
    "- Now we will create webmap properties to create our lovely webmap!"
   ]
  },
  {
   "cell_type": "markdown",
   "metadata": {},
   "source": [
    "# Now it's time to apply the Mann Kendall test."
   ]
  },
  {
   "cell_type": "markdown",
   "metadata": {},
   "source": [
    "- We import mk_test from mk_test.py\n",
    "- We will add all the countries into a dataframe, convert to a numpy array, and then apply the test."
   ]
  },
  {
   "cell_type": "code",
   "execution_count": 6,
   "metadata": {},
   "outputs": [],
   "source": [
    "#create a list of numpy arrays\n",
    "from mk_test import mk_test\n",
    "frames = []\n",
    "\n",
    "for file in excel_files:\n",
    "    df = pd.read_excel(file)\n",
    "    #print(len(df))\n",
    "    frames.append(df)\n",
    "\n",
    "frames = pd.concat(frames)\n",
    "\n",
    "dataframe_list = []\n",
    "\n",
    "for country in country_list:\n",
    "    #z=frames.loc[frames['Country']==country_list[-1]]\n",
    "    z=frames.loc[frames['Country']==country]\n",
    "    z_num = z.values[0:]\n",
    "    z_num= z_num[:,3]\n",
    "\n",
    "    x = mk_test(z_num)\n",
    "    #x = country+': '+str(mk_test(z_num))\n",
    "    x = list(x)\n",
    "    x.append(country)\n",
    "    dataframe_list.append(x)\n",
    "    \n",
    "    \n",
    "\n",
    "  #  for index, row in df.iterrows():\n",
    "    #    country = row[0]\n",
    "     #   time = file[4:8]\n",
    "     #   rank = row[3]\n",
    "    \n",
    "    \n",
    "    \n"
   ]
  },
  {
   "cell_type": "code",
   "execution_count": 16,
   "metadata": {},
   "outputs": [],
   "source": [
    "dataframe_list = pd.DataFrame(dataframe_list)"
   ]
  },
  {
   "cell_type": "markdown",
   "metadata": {},
   "source": [
    "- Convert the dataframe into a csv."
   ]
  },
  {
   "cell_type": "code",
   "execution_count": 18,
   "metadata": {},
   "outputs": [],
   "source": [
    "dataframe_list.to_csv(\"Trends.csv\",index = False,header = ['Trend','True/False','p-value','normalized test statistic','Country'])"
   ]
  },
  {
   "cell_type": "code",
   "execution_count": 24,
   "metadata": {},
   "outputs": [],
   "source": [
    "csv_trend = os.path.join(path,'Trends.csv')"
   ]
  },
  {
   "cell_type": "markdown",
   "metadata": {},
   "source": [
    "- Now that we have trends in a csv, we will create a feature service with it."
   ]
  },
  {
   "cell_type": "code",
   "execution_count": 25,
   "metadata": {},
   "outputs": [
    {
     "data": {
      "text/html": [
       "<div class=\"item_container\" style=\"height: auto; overflow: hidden; border: 1px solid #cfcfcf; border-radius: 2px; background: #f6fafa; line-height: 1.21429em; padding: 10px;\">\n",
       "                    <div class=\"item_left\" style=\"width: 210px; float: left;\">\n",
       "                       <a href='http://SLUSTL.maps.arcgis.com/home/item.html?id=7fcbcf6d5efe43f69b5a849313070dd1' target='_blank'>\n",
       "                        <img src='http://static.arcgis.com/images/desktopapp.png' class=\"itemThumbnail\">\n",
       "                       </a>\n",
       "                    </div>\n",
       "\n",
       "                    <div class=\"item_right\"     style=\"float: none; width: auto; overflow: hidden;\">\n",
       "                        <a href='http://SLUSTL.maps.arcgis.com/home/item.html?id=7fcbcf6d5efe43f69b5a849313070dd1' target='_blank'><b>Trends</b>\n",
       "                        </a>\n",
       "                        <br/><img src='http://SLUSTL.maps.arcgis.com/home/js/jsapi/esri/css/images/item_type_icons/featureshosted16.png' style=\"vertical-align:middle;\">Feature Layer Collection by sspiegel_slu\n",
       "                        <br/>Last Modified: October 30, 2018\n",
       "                        <br/>0 comments, 0 views\n",
       "                    </div>\n",
       "                </div>\n",
       "                "
      ],
      "text/plain": [
       "<Item title:\"Trends\" type:Feature Layer Collection owner:sspiegel_slu>"
      ]
     },
     "execution_count": 25,
     "metadata": {},
     "output_type": "execute_result"
    }
   ],
   "source": [
    "    csv_content_trend = gis.content.add({}, csv_trend)\n",
    "    csv_content_trend.publish(None, {\"Address\":\"Country\"})"
   ]
  },
  {
   "cell_type": "code",
   "execution_count": 15,
   "metadata": {},
   "outputs": [],
   "source": [
    "search_item_trends=gis.content.search(\"title:Trends\")"
   ]
  },
  {
   "cell_type": "markdown",
   "metadata": {},
   "source": [
    "- Search for my trends feature service"
   ]
  },
  {
   "cell_type": "code",
   "execution_count": 16,
   "metadata": {
    "scrolled": false
   },
   "outputs": [
    {
     "data": {
      "text/plain": [
       "[<Item title:\"unhcr_trend_csv\" type:Feature Layer Collection owner:gregbrunner_slugis>,\n",
       " <Item title:\"Trends\" type:CSV owner:sspiegel_slu>,\n",
       " <Item title:\"Trends\" type:Feature Layer Collection owner:sspiegel_slu>,\n",
       " <Item title:\"unhcr_trend_csv\" type:CSV owner:gregbrunner_slugis>,\n",
       " <Item title:\"trend_csv\" type:CSV owner:gregbrunner_slugis>,\n",
       " <Item title:\"trend_csv\" type:Feature Layer Collection owner:gregbrunner_slugis>,\n",
       " <Item title:\"UNHCR Trend - Greg B\" type:Web Map owner:gregbrunner_slugis>]"
      ]
     },
     "execution_count": 16,
     "metadata": {},
     "output_type": "execute_result"
    }
   ],
   "source": [
    "search_item_trends"
   ]
  },
  {
   "cell_type": "code",
   "execution_count": 17,
   "metadata": {},
   "outputs": [],
   "source": [
    "layer = search_item_trends[2]"
   ]
  },
  {
   "cell_type": "code",
   "execution_count": 18,
   "metadata": {
    "scrolled": true
   },
   "outputs": [
    {
     "data": {
      "text/html": [
       "<div class=\"item_container\" style=\"height: auto; overflow: hidden; border: 1px solid #cfcfcf; border-radius: 2px; background: #f6fafa; line-height: 1.21429em; padding: 10px;\">\n",
       "                    <div class=\"item_left\" style=\"width: 210px; float: left;\">\n",
       "                       <a href='http://SLUSTL.maps.arcgis.com/home/item.html?id=7fcbcf6d5efe43f69b5a849313070dd1' target='_blank'>\n",
       "                        <img src='data:image/png;base64,iVBORw0KGgoAAAANSUhEUgAAAMgAAACFCAYAAAAenrcsAAABGUlEQVR42u3TAQ0AAAzCMPybBgU38LQSliwFTpEADAIGAYOAQcAgYBAwCBgEDAIYBAwCBgGDgEHAIGAQMAgYBAwCGAQMAgYBg4BBwCBgEDAIGAQwCBgEDAIGAYOAQcAgYBAwCBgEMAgYBAwCBgGDgEHAIGAQMAhgEDAIGAQMAgYBg4BBwCBgEDAIYBAwCBgEDAIGAYOAQcAgYBDAIGAQMAgYBAwCBgGDgEHAIGAQwCBgEDAIGAQMAgYBg4BBwCBgEAnAIGAQMAgYBAwCBgGDgEHAIIBBwCBgEDAIGAQMAgYBg4BBwCCAQcAgYBAwCBgEDAIGAYOAQQCDgEHAIGAQMAgYBAwCBgGDgEEAg4BBwCBgEDAIGAQMAu8MNFIYo2feTFIAAAAASUVORK5CYII=' width='200' height='133' class=\"itemThumbnail\">\n",
       "                       </a>\n",
       "                    </div>\n",
       "\n",
       "                    <div class=\"item_right\"     style=\"float: none; width: auto; overflow: hidden;\">\n",
       "                        <a href='http://SLUSTL.maps.arcgis.com/home/item.html?id=7fcbcf6d5efe43f69b5a849313070dd1' target='_blank'><b>Trends</b>\n",
       "                        </a>\n",
       "                        <br/><img src='http://SLUSTL.maps.arcgis.com/home/js/jsapi/esri/css/images/item_type_icons/featureshosted16.png' style=\"vertical-align:middle;\">Feature Layer Collection by sspiegel_slu\n",
       "                        <br/>Last Modified: October 30, 2018\n",
       "                        <br/>0 comments, 5 views\n",
       "                    </div>\n",
       "                </div>\n",
       "                "
      ],
      "text/plain": [
       "<Item title:\"Trends\" type:Feature Layer Collection owner:sspiegel_slu>"
      ]
     },
     "execution_count": 18,
     "metadata": {},
     "output_type": "execute_result"
    }
   ],
   "source": [
    "layer"
   ]
  },
  {
   "cell_type": "markdown",
   "metadata": {},
   "source": [
    "- Add layers to world map and then create a webmap."
   ]
  },
  {
   "cell_type": "code",
   "execution_count": 19,
   "metadata": {
    "scrolled": true
   },
   "outputs": [],
   "source": [
    "world_map.add_layer(layer)\n",
    "for item in search_item:\n",
    "    world_map.add_layer(item,classed_size_renderer)"
   ]
  },
  {
   "cell_type": "code",
   "execution_count": 20,
   "metadata": {},
   "outputs": [],
   "source": [
    "webmap_properties = {'title':'Project 2',\n",
    "                    'snippet': 'Project 2 saved as jupyter notebook',\n",
    "                    'tags':['Project 2', 'fragile state']}"
   ]
  },
  {
   "cell_type": "code",
   "execution_count": 21,
   "metadata": {},
   "outputs": [],
   "source": [
    "webmap_item = world_map.save(webmap_properties)\n"
   ]
  },
  {
   "cell_type": "code",
   "execution_count": null,
   "metadata": {},
   "outputs": [],
   "source": []
  }
 ],
 "metadata": {
  "kernelspec": {
   "display_name": "Python 3",
   "language": "python",
   "name": "python3"
  },
  "language_info": {
   "codemirror_mode": {
    "name": "ipython",
    "version": 3
   },
   "file_extension": ".py",
   "mimetype": "text/x-python",
   "name": "python",
   "nbconvert_exporter": "python",
   "pygments_lexer": "ipython3",
   "version": "3.6.6"
  }
 },
 "nbformat": 4,
 "nbformat_minor": 2
}
