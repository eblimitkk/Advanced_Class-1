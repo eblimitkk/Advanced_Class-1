{
 "cells": [
  {
   "cell_type": "markdown",
   "metadata": {},
   "source": [
    "# Project 2: Fragile State Index Webmap.  "
   ]
  },
  {
   "cell_type": "markdown",
   "metadata": {},
   "source": [
    " - Import ArcGIS and Import GIS.  "
   ]
  },
  {
   "cell_type": "code",
   "execution_count": 1,
   "metadata": {},
   "outputs": [],
   "source": [
    "from arcgis.gis import GIS\n",
    "from arcgis.geocoding import Geocoder, get_geocoders\n",
    "import pandas as pd\n",
    "import os \n",
    "import glob\n",
    "import numpy as np"
   ]
  },
  {
   "cell_type": "markdown",
   "metadata": {},
   "source": [
    "- Set GIS to Arcgis home with username and password (yes, this is my password because I'm too lazy to input it everytime.  Please don't mess with anything.)"
   ]
  },
  {
   "cell_type": "code",
   "execution_count": 2,
   "metadata": {},
   "outputs": [],
   "source": [
    "gis = GIS(\"http://slustl.maps.arcgis.com/home\",\"sspiegel_slu\",\"Apples*200\")"
   ]
  },
  {
   "cell_type": "markdown",
   "metadata": {},
   "source": [
    "- Read Excel sheets as dataframes via pandas library."
   ]
  },
  {
   "cell_type": "code",
   "execution_count": 3,
   "metadata": {},
   "outputs": [],
   "source": [
    "world_map = gis.map()\n",
    "world_map.basemap = 'hybrid'"
   ]
  },
  {
   "cell_type": "code",
   "execution_count": 4,
   "metadata": {},
   "outputs": [],
   "source": [
    "#set the current working directory via the variable 'path'.  Note in this case, path is the current working directory,\n",
    "#however one may change it to a different folder\n",
    "path = os.getcwd()\n",
    "os.chdir(path)"
   ]
  },
  {
   "cell_type": "markdown",
   "metadata": {},
   "source": [
    "- Rename the files with my initials at the end."
   ]
  },
  {
   "cell_type": "code",
   "execution_count": 5,
   "metadata": {},
   "outputs": [],
   "source": [
    "#list the excel files in the directory (or wherever they may be located)\n",
    "excel_files = glob.glob('*.xlsx')\n",
    "for file in excel_files:\n",
    "\n",
    "    #print(year)\n",
    "    if '_sss.xlsx' not in file:\n",
    "       # print('True')\n",
    "        \n",
    "        #print(year)\n",
    "        combo = file[:-5]+'_sss'+'.xlsx'\n",
    "        #print(combo)\n",
    "        os.rename(file,combo)\n",
    "        \n",
    "\n",
    "        \n",
    "    \n"
   ]
  },
  {
   "cell_type": "markdown",
   "metadata": {},
   "source": [
    "- Now it's time to use the 'pandas' library. \n",
    "- We are going to read the excel files into a dataframe.  Also, we will do this with a 'for' loop."
   ]
  },
  {
   "cell_type": "code",
   "execution_count": 8,
   "metadata": {},
   "outputs": [],
   "source": [
    "for file in excel_files:\n",
    "#    year = \"_\"+file[4:8]\n",
    "\n",
    "\n",
    "#year = excel_files[0][4:8]\n",
    "    df = pd.read_excel(file)\n",
    "    country = gis.content.import_data(df, {\"Address\" : \"Country\"})\n",
    "#gis.content.add({\"title\":\"Fragile State Index: \"+year, \"tags\":\"Fragile State\"}, country)\n",
    "\n",
    "    world_map.add_layer(country, { \"renderer\":\"ClassedSizeRenderer\", \"field_name\":\"Total\" })\n",
    "    "
   ]
  },
  {
   "cell_type": "code",
   "execution_count": 7,
   "metadata": {
    "scrolled": true
   },
   "outputs": [],
   "source": [
    "#df"
   ]
  },
  {
   "cell_type": "code",
   "execution_count": 9,
   "metadata": {},
   "outputs": [
    {
     "data": {
      "application/vnd.jupyter.widget-view+json": {
       "model_id": "38f623da489948da903ae13837d18303",
       "version_major": 2,
       "version_minor": 0
      },
      "text/plain": [
       "MapView(basemap='hybrid', layout=Layout(height='400px', width='100%'))"
      ]
     },
     "metadata": {},
     "output_type": "display_data"
    }
   ],
   "source": [
    "world_map"
   ]
  },
  {
   "cell_type": "code",
   "execution_count": null,
   "metadata": {},
   "outputs": [],
   "source": []
  }
 ],
 "metadata": {
  "kernelspec": {
   "display_name": "Python 3",
   "language": "python",
   "name": "python3"
  },
  "language_info": {
   "codemirror_mode": {
    "name": "ipython",
    "version": 3
   },
   "file_extension": ".py",
   "mimetype": "text/x-python",
   "name": "python",
   "nbconvert_exporter": "python",
   "pygments_lexer": "ipython3",
   "version": "3.6.6"
  }
 },
 "nbformat": 4,
 "nbformat_minor": 2
}
