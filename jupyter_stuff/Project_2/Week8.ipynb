{
 "cells": [
  {
   "cell_type": "code",
   "execution_count": 1,
   "metadata": {},
   "outputs": [],
   "source": [
    "from arcgis.gis import GIS\n",
    "from arcgis.geoenrichment import *\n",
    "\n",
    "\n",
    "gis = GIS(\"http://slustl.maps.arcgis.com/home\",\"sspiegel_slu\",\"Apples*200\")"
   ]
  },
  {
   "cell_type": "code",
   "execution_count": 2,
   "metadata": {},
   "outputs": [],
   "source": [
    "usa = Country.get('US')"
   ]
  },
  {
   "cell_type": "code",
   "execution_count": 3,
   "metadata": {},
   "outputs": [
    {
     "data": {
      "text/plain": [
       "arcgis.geoenrichment.enrichment.Country"
      ]
     },
     "execution_count": 3,
     "metadata": {},
     "output_type": "execute_result"
    }
   ],
   "source": [
    "type(usa)"
   ]
  },
  {
   "cell_type": "code",
   "execution_count": 4,
   "metadata": {},
   "outputs": [
    {
     "data": {
      "text/plain": [
       "['USA_ESRI_2018', 'USA_ASR_2018', 'USA_RMP_2018', 'USA_ACS_2018', 'Landscape']"
      ]
     },
     "execution_count": 4,
     "metadata": {},
     "output_type": "execute_result"
    }
   ],
   "source": [
    "usa.properties.datasets"
   ]
  },
  {
   "cell_type": "code",
   "execution_count": 5,
   "metadata": {},
   "outputs": [
    {
     "data": {
      "text/plain": [
       "{'Alameda_County': <NamedArea name:\"Alameda County\" area_id=\"06001\", level=\"US.Counties\", country=\"United States\">,\n",
       " 'Alpine_County': <NamedArea name:\"Alpine County\" area_id=\"06003\", level=\"US.Counties\", country=\"United States\">,\n",
       " 'Amador_County': <NamedArea name:\"Amador County\" area_id=\"06005\", level=\"US.Counties\", country=\"United States\">,\n",
       " 'Butte_County': <NamedArea name:\"Butte County\" area_id=\"06007\", level=\"US.Counties\", country=\"United States\">,\n",
       " 'Calaveras_County': <NamedArea name:\"Calaveras County\" area_id=\"06009\", level=\"US.Counties\", country=\"United States\">,\n",
       " 'Colusa_County': <NamedArea name:\"Colusa County\" area_id=\"06011\", level=\"US.Counties\", country=\"United States\">,\n",
       " 'Contra_Costa_County': <NamedArea name:\"Contra Costa County\" area_id=\"06013\", level=\"US.Counties\", country=\"United States\">,\n",
       " 'Del_Norte_County': <NamedArea name:\"Del Norte County\" area_id=\"06015\", level=\"US.Counties\", country=\"United States\">,\n",
       " 'El_Dorado_County': <NamedArea name:\"El Dorado County\" area_id=\"06017\", level=\"US.Counties\", country=\"United States\">,\n",
       " 'Fresno_County': <NamedArea name:\"Fresno County\" area_id=\"06019\", level=\"US.Counties\", country=\"United States\">,\n",
       " 'Glenn_County': <NamedArea name:\"Glenn County\" area_id=\"06021\", level=\"US.Counties\", country=\"United States\">,\n",
       " 'Humboldt_County': <NamedArea name:\"Humboldt County\" area_id=\"06023\", level=\"US.Counties\", country=\"United States\">,\n",
       " 'Imperial_County': <NamedArea name:\"Imperial County\" area_id=\"06025\", level=\"US.Counties\", country=\"United States\">,\n",
       " 'Inyo_County': <NamedArea name:\"Inyo County\" area_id=\"06027\", level=\"US.Counties\", country=\"United States\">,\n",
       " 'Kern_County': <NamedArea name:\"Kern County\" area_id=\"06029\", level=\"US.Counties\", country=\"United States\">,\n",
       " 'Kings_County': <NamedArea name:\"Kings County\" area_id=\"06031\", level=\"US.Counties\", country=\"United States\">,\n",
       " 'Lake_County': <NamedArea name:\"Lake County\" area_id=\"06033\", level=\"US.Counties\", country=\"United States\">,\n",
       " 'Lassen_County': <NamedArea name:\"Lassen County\" area_id=\"06035\", level=\"US.Counties\", country=\"United States\">,\n",
       " 'Los_Angeles_County': <NamedArea name:\"Los Angeles County\" area_id=\"06037\", level=\"US.Counties\", country=\"United States\">,\n",
       " 'Madera_County': <NamedArea name:\"Madera County\" area_id=\"06039\", level=\"US.Counties\", country=\"United States\">,\n",
       " 'Marin_County': <NamedArea name:\"Marin County\" area_id=\"06041\", level=\"US.Counties\", country=\"United States\">,\n",
       " 'Mariposa_County': <NamedArea name:\"Mariposa County\" area_id=\"06043\", level=\"US.Counties\", country=\"United States\">,\n",
       " 'Mendocino_County': <NamedArea name:\"Mendocino County\" area_id=\"06045\", level=\"US.Counties\", country=\"United States\">,\n",
       " 'Merced_County': <NamedArea name:\"Merced County\" area_id=\"06047\", level=\"US.Counties\", country=\"United States\">,\n",
       " 'Modoc_County': <NamedArea name:\"Modoc County\" area_id=\"06049\", level=\"US.Counties\", country=\"United States\">,\n",
       " 'Mono_County': <NamedArea name:\"Mono County\" area_id=\"06051\", level=\"US.Counties\", country=\"United States\">,\n",
       " 'Monterey_County': <NamedArea name:\"Monterey County\" area_id=\"06053\", level=\"US.Counties\", country=\"United States\">,\n",
       " 'Napa_County': <NamedArea name:\"Napa County\" area_id=\"06055\", level=\"US.Counties\", country=\"United States\">,\n",
       " 'Nevada_County': <NamedArea name:\"Nevada County\" area_id=\"06057\", level=\"US.Counties\", country=\"United States\">,\n",
       " 'Orange_County': <NamedArea name:\"Orange County\" area_id=\"06059\", level=\"US.Counties\", country=\"United States\">,\n",
       " 'Placer_County': <NamedArea name:\"Placer County\" area_id=\"06061\", level=\"US.Counties\", country=\"United States\">,\n",
       " 'Plumas_County': <NamedArea name:\"Plumas County\" area_id=\"06063\", level=\"US.Counties\", country=\"United States\">,\n",
       " 'Riverside_County': <NamedArea name:\"Riverside County\" area_id=\"06065\", level=\"US.Counties\", country=\"United States\">,\n",
       " 'Sacramento_County': <NamedArea name:\"Sacramento County\" area_id=\"06067\", level=\"US.Counties\", country=\"United States\">,\n",
       " 'San_Benito_County': <NamedArea name:\"San Benito County\" area_id=\"06069\", level=\"US.Counties\", country=\"United States\">,\n",
       " 'San_Bernardino_County': <NamedArea name:\"San Bernardino County\" area_id=\"06071\", level=\"US.Counties\", country=\"United States\">,\n",
       " 'San_Diego_County': <NamedArea name:\"San Diego County\" area_id=\"06073\", level=\"US.Counties\", country=\"United States\">,\n",
       " 'San_Francisco_County': <NamedArea name:\"San Francisco County\" area_id=\"06075\", level=\"US.Counties\", country=\"United States\">,\n",
       " 'San_Joaquin_County': <NamedArea name:\"San Joaquin County\" area_id=\"06077\", level=\"US.Counties\", country=\"United States\">,\n",
       " 'San_Luis_Obispo_County': <NamedArea name:\"San Luis Obispo County\" area_id=\"06079\", level=\"US.Counties\", country=\"United States\">,\n",
       " 'San_Mateo_County': <NamedArea name:\"San Mateo County\" area_id=\"06081\", level=\"US.Counties\", country=\"United States\">,\n",
       " 'Santa_Barbara_County': <NamedArea name:\"Santa Barbara County\" area_id=\"06083\", level=\"US.Counties\", country=\"United States\">,\n",
       " 'Santa_Clara_County': <NamedArea name:\"Santa Clara County\" area_id=\"06085\", level=\"US.Counties\", country=\"United States\">,\n",
       " 'Santa_Cruz_County': <NamedArea name:\"Santa Cruz County\" area_id=\"06087\", level=\"US.Counties\", country=\"United States\">,\n",
       " 'Shasta_County': <NamedArea name:\"Shasta County\" area_id=\"06089\", level=\"US.Counties\", country=\"United States\">,\n",
       " 'Sierra_County': <NamedArea name:\"Sierra County\" area_id=\"06091\", level=\"US.Counties\", country=\"United States\">,\n",
       " 'Siskiyou_County': <NamedArea name:\"Siskiyou County\" area_id=\"06093\", level=\"US.Counties\", country=\"United States\">,\n",
       " 'Solano_County': <NamedArea name:\"Solano County\" area_id=\"06095\", level=\"US.Counties\", country=\"United States\">,\n",
       " 'Sonoma_County': <NamedArea name:\"Sonoma County\" area_id=\"06097\", level=\"US.Counties\", country=\"United States\">,\n",
       " 'Stanislaus_County': <NamedArea name:\"Stanislaus County\" area_id=\"06099\", level=\"US.Counties\", country=\"United States\">,\n",
       " 'Sutter_County': <NamedArea name:\"Sutter County\" area_id=\"06101\", level=\"US.Counties\", country=\"United States\">,\n",
       " 'Tehama_County': <NamedArea name:\"Tehama County\" area_id=\"06103\", level=\"US.Counties\", country=\"United States\">,\n",
       " 'Trinity_County': <NamedArea name:\"Trinity County\" area_id=\"06105\", level=\"US.Counties\", country=\"United States\">,\n",
       " 'Tulare_County': <NamedArea name:\"Tulare County\" area_id=\"06107\", level=\"US.Counties\", country=\"United States\">,\n",
       " 'Tuolumne_County': <NamedArea name:\"Tuolumne County\" area_id=\"06109\", level=\"US.Counties\", country=\"United States\">,\n",
       " 'Ventura_County': <NamedArea name:\"Ventura County\" area_id=\"06111\", level=\"US.Counties\", country=\"United States\">,\n",
       " 'Yolo_County': <NamedArea name:\"Yolo County\" area_id=\"06113\", level=\"US.Counties\", country=\"United States\">,\n",
       " 'Yuba_County': <NamedArea name:\"Yuba County\" area_id=\"06115\", level=\"US.Counties\", country=\"United States\">}"
      ]
     },
     "execution_count": 5,
     "metadata": {},
     "output_type": "execute_result"
    }
   ],
   "source": [
    "usa.subgeographies.states['California'].counties"
   ]
  },
  {
   "cell_type": "code",
   "execution_count": 6,
   "metadata": {},
   "outputs": [],
   "source": [
    "geom = usa.subgeographies.states['California'].geometry"
   ]
  },
  {
   "cell_type": "code",
   "execution_count": 10,
   "metadata": {},
   "outputs": [],
   "source": [
    "m = gis.map('Californial,USA')"
   ]
  },
  {
   "cell_type": "code",
   "execution_count": 11,
   "metadata": {},
   "outputs": [
    {
     "data": {
      "application/vnd.jupyter.widget-view+json": {
       "model_id": "ced5040592804b48899bf24518e7a473",
       "version_major": 2,
       "version_minor": 0
      },
      "text/plain": [
       "MapView(layout=Layout(height='400px', width='100%'))"
      ]
     },
     "metadata": {},
     "output_type": "display_data"
    }
   ],
   "source": [
    "m"
   ]
  },
  {
   "cell_type": "code",
   "execution_count": 12,
   "metadata": {},
   "outputs": [],
   "source": [
    "m.draw(geom)"
   ]
  },
  {
   "cell_type": "code",
   "execution_count": 13,
   "metadata": {},
   "outputs": [],
   "source": [
    "ca_df = enrich(study_areas = [usa.subgeographies.states['California']])"
   ]
  },
  {
   "cell_type": "code",
   "execution_count": 14,
   "metadata": {},
   "outputs": [
    {
     "data": {
      "text/html": [
       "<div>\n",
       "<style scoped>\n",
       "    .dataframe tbody tr th:only-of-type {\n",
       "        vertical-align: middle;\n",
       "    }\n",
       "\n",
       "    .dataframe tbody tr th {\n",
       "        vertical-align: top;\n",
       "    }\n",
       "\n",
       "    .dataframe thead th {\n",
       "        text-align: right;\n",
       "    }\n",
       "</style>\n",
       "<table border=\"1\" class=\"dataframe\">\n",
       "  <thead>\n",
       "    <tr style=\"text-align: right;\">\n",
       "      <th></th>\n",
       "      <th>AVGHHSZ</th>\n",
       "      <th>HasData</th>\n",
       "      <th>ID</th>\n",
       "      <th>OBJECTID</th>\n",
       "      <th>SHAPE</th>\n",
       "      <th>StdGeographyID</th>\n",
       "      <th>StdGeographyLevel</th>\n",
       "      <th>StdGeographyName</th>\n",
       "      <th>TOTFEMALES</th>\n",
       "      <th>TOTHH</th>\n",
       "      <th>TOTMALES</th>\n",
       "      <th>TOTPOP</th>\n",
       "      <th>aggregationMethod</th>\n",
       "      <th>apportionmentConfidence</th>\n",
       "      <th>populationToPolygonSizeRating</th>\n",
       "      <th>sourceCountry</th>\n",
       "    </tr>\n",
       "  </thead>\n",
       "  <tbody>\n",
       "    <tr>\n",
       "      <th>0</th>\n",
       "      <td>2.92</td>\n",
       "      <td>1</td>\n",
       "      <td>0</td>\n",
       "      <td>1</td>\n",
       "      <td>{\"rings\": [[[-122.32029000036778, 42.008609999...</td>\n",
       "      <td>06</td>\n",
       "      <td>US.States</td>\n",
       "      <td>California</td>\n",
       "      <td>20024285</td>\n",
       "      <td>13336104</td>\n",
       "      <td>19782506</td>\n",
       "      <td>39806791</td>\n",
       "      <td>Query:US.States</td>\n",
       "      <td>2.576</td>\n",
       "      <td>2.191</td>\n",
       "      <td>US</td>\n",
       "    </tr>\n",
       "  </tbody>\n",
       "</table>\n",
       "</div>"
      ],
      "text/plain": [
       "   AVGHHSZ  HasData ID      ...       apportionmentConfidence populationToPolygonSizeRating sourceCountry\n",
       "0     2.92        1  0      ...                         2.576                         2.191            US\n",
       "\n",
       "[1 rows x 16 columns]"
      ]
     },
     "execution_count": 14,
     "metadata": {},
     "output_type": "execute_result"
    }
   ],
   "source": [
    "ca_df"
   ]
  },
  {
   "cell_type": "code",
   "execution_count": null,
   "metadata": {},
   "outputs": [],
   "source": []
  }
 ],
 "metadata": {
  "kernelspec": {
   "display_name": "Python 3",
   "language": "python",
   "name": "python3"
  },
  "language_info": {
   "codemirror_mode": {
    "name": "ipython",
    "version": 3
   },
   "file_extension": ".py",
   "mimetype": "text/x-python",
   "name": "python",
   "nbconvert_exporter": "python",
   "pygments_lexer": "ipython3",
   "version": "3.6.6"
  }
 },
 "nbformat": 4,
 "nbformat_minor": 2
}
