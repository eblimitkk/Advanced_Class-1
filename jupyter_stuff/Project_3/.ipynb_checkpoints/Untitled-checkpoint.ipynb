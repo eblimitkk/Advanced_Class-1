{
 "cells": [
  {
   "cell_type": "code",
   "execution_count": 2,
   "metadata": {},
   "outputs": [],
   "source": [
    "import arcpy, csv,os\n",
    "\n",
    "def tableToCSV(input_tbl, csv_filepath):\n",
    "    '''go from feature class to csv'''\n",
    "    fld_list = arcpy.ListFields(input_tbl)\n",
    "    fld_names = [fld.name for fld in fld_list]\n",
    "    with open(csv_filepath, 'wb') as csv_file:\n",
    "        writer = csv.writer(csv_file)\n",
    "        writer.writerow(fld_names)\n",
    "        with arcpy.da.SearchCursor(input_tbl, fld_names) as cursor:\n",
    "            for row in cursor:\n",
    "                writer.writerow(row)\n",
    "        print (csv_filepath + \" CREATED\")\n",
    "    csv_file.close()\n",
    "\n",
    "fc = r'D:\\Advanced_Class\\jupyter_stuff\\Project_3\\states.gdb\\MO_1'"
   ]
  },
  {
   "cell_type": "code",
   "execution_count": 4,
   "metadata": {},
   "outputs": [
    {
     "name": "stdout",
     "output_type": "stream",
     "text": [
      "False\n"
     ]
    }
   ],
   "source": [
    "print(os.path.exists(fc))"
   ]
  },
  {
   "cell_type": "code",
   "execution_count": null,
   "metadata": {},
   "outputs": [],
   "source": []
  }
 ],
 "metadata": {
  "kernelspec": {
   "display_name": "Python 3",
   "language": "python",
   "name": "python3"
  },
  "language_info": {
   "codemirror_mode": {
    "name": "ipython",
    "version": 3
   },
   "file_extension": ".py",
   "mimetype": "text/x-python",
   "name": "python",
   "nbconvert_exporter": "python",
   "pygments_lexer": "ipython3",
   "version": "3.6.6"
  }
 },
 "nbformat": 4,
 "nbformat_minor": 2
}
