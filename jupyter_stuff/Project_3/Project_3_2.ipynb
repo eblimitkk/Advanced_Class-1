{
 "cells": [
  {
   "cell_type": "code",
   "execution_count": 1,
   "metadata": {},
   "outputs": [],
   "source": [
    "##Import modules\n",
    "from arcgis.gis import GIS\n",
    "from arcgis.geocoding import Geocoder, get_geocoders\n",
    "import pandas as pd\n",
    "from arcgis.geometry import filters\n",
    "import arcpy\n",
    "from fc_to_csv import tableToCSV\n",
    "import os\n",
    "import matplotlib.pyplot as plt\n",
    "\n",
    "\n",
    "#Set GIS with password\n",
    "gis = GIS(\"http://slustl.maps.arcgis.com/home\", \"sspiegel_slu\",\"Apples*200\")"
   ]
  },
  {
   "cell_type": "code",
   "execution_count": 2,
   "metadata": {},
   "outputs": [],
   "source": [
    "from arcgis.geoenrichment import *"
   ]
  },
  {
   "cell_type": "code",
   "execution_count": 3,
   "metadata": {},
   "outputs": [],
   "source": [
    "path = os.getcwd()"
   ]
  },
  {
   "cell_type": "code",
   "execution_count": 4,
   "metadata": {},
   "outputs": [
    {
     "data": {
      "text/plain": [
       "'D:\\\\Advanced_Class\\\\jupyter_stuff\\\\Project_3'"
      ]
     },
     "execution_count": 4,
     "metadata": {},
     "output_type": "execute_result"
    }
   ],
   "source": [
    "path"
   ]
  },
  {
   "cell_type": "code",
   "execution_count": 6,
   "metadata": {},
   "outputs": [
    {
     "data": {
      "text/plain": [
       "['.ipynb_checkpoints',\n",
       " 'fc.csv',\n",
       " 'fc_to_csv.py',\n",
       " 'Project_3.ipynb',\n",
       " 'Project_3_2.ipynb',\n",
       " 'significant_month.csv',\n",
       " 'states.gdb',\n",
       " 'Untitled.ipynb',\n",
       " '__pycache__']"
      ]
     },
     "execution_count": 6,
     "metadata": {},
     "output_type": "execute_result"
    }
   ],
   "source": [
    "os.listdir()"
   ]
  },
  {
   "cell_type": "code",
   "execution_count": 7,
   "metadata": {},
   "outputs": [],
   "source": [
    "earthquakes = 'significant_month.csv'"
   ]
  },
  {
   "cell_type": "code",
   "execution_count": 8,
   "metadata": {},
   "outputs": [
    {
     "data": {
      "text/plain": [
       "arcgis.geoenrichment.enrichment.Country"
      ]
     },
     "execution_count": 8,
     "metadata": {},
     "output_type": "execute_result"
    }
   ],
   "source": [
    "usa  =  Country.get('US')\n",
    "type(usa)"
   ]
  },
  {
   "cell_type": "code",
   "execution_count": 9,
   "metadata": {},
   "outputs": [
    {
     "data": {
      "text/plain": [
       "['USA_ESRI_2018', 'USA_ASR_2018', 'USA_RMP_2018', 'USA_ACS_2018', 'Landscape']"
      ]
     },
     "execution_count": 9,
     "metadata": {},
     "output_type": "execute_result"
    }
   ],
   "source": [
    "usa.properties.datasets"
   ]
  },
  {
   "cell_type": "code",
   "execution_count": 10,
   "metadata": {},
   "outputs": [
    {
     "data": {
      "text/plain": [
       "{'Alabama': <NamedArea name:\"Alabama\" area_id=\"01\", level=\"US.States\", country=\"United States\">,\n",
       " 'Alaska': <NamedArea name:\"Alaska\" area_id=\"02\", level=\"US.States\", country=\"United States\">,\n",
       " 'Arizona': <NamedArea name:\"Arizona\" area_id=\"04\", level=\"US.States\", country=\"United States\">,\n",
       " 'Arkansas': <NamedArea name:\"Arkansas\" area_id=\"05\", level=\"US.States\", country=\"United States\">,\n",
       " 'California': <NamedArea name:\"California\" area_id=\"06\", level=\"US.States\", country=\"United States\">,\n",
       " 'Colorado': <NamedArea name:\"Colorado\" area_id=\"08\", level=\"US.States\", country=\"United States\">,\n",
       " 'Connecticut': <NamedArea name:\"Connecticut\" area_id=\"09\", level=\"US.States\", country=\"United States\">,\n",
       " 'Delaware': <NamedArea name:\"Delaware\" area_id=\"10\", level=\"US.States\", country=\"United States\">,\n",
       " 'District_of_Columbia': <NamedArea name:\"District of Columbia\" area_id=\"11\", level=\"US.States\", country=\"United States\">,\n",
       " 'Florida': <NamedArea name:\"Florida\" area_id=\"12\", level=\"US.States\", country=\"United States\">,\n",
       " 'Georgia': <NamedArea name:\"Georgia\" area_id=\"13\", level=\"US.States\", country=\"United States\">,\n",
       " 'Hawaii': <NamedArea name:\"Hawaii\" area_id=\"15\", level=\"US.States\", country=\"United States\">,\n",
       " 'Idaho': <NamedArea name:\"Idaho\" area_id=\"16\", level=\"US.States\", country=\"United States\">,\n",
       " 'Illinois': <NamedArea name:\"Illinois\" area_id=\"17\", level=\"US.States\", country=\"United States\">,\n",
       " 'Indiana': <NamedArea name:\"Indiana\" area_id=\"18\", level=\"US.States\", country=\"United States\">,\n",
       " 'Iowa': <NamedArea name:\"Iowa\" area_id=\"19\", level=\"US.States\", country=\"United States\">,\n",
       " 'Kansas': <NamedArea name:\"Kansas\" area_id=\"20\", level=\"US.States\", country=\"United States\">,\n",
       " 'Kentucky': <NamedArea name:\"Kentucky\" area_id=\"21\", level=\"US.States\", country=\"United States\">,\n",
       " 'Louisiana': <NamedArea name:\"Louisiana\" area_id=\"22\", level=\"US.States\", country=\"United States\">,\n",
       " 'Maine': <NamedArea name:\"Maine\" area_id=\"23\", level=\"US.States\", country=\"United States\">,\n",
       " 'Maryland': <NamedArea name:\"Maryland\" area_id=\"24\", level=\"US.States\", country=\"United States\">,\n",
       " 'Massachusetts': <NamedArea name:\"Massachusetts\" area_id=\"25\", level=\"US.States\", country=\"United States\">,\n",
       " 'Michigan': <NamedArea name:\"Michigan\" area_id=\"26\", level=\"US.States\", country=\"United States\">,\n",
       " 'Minnesota': <NamedArea name:\"Minnesota\" area_id=\"27\", level=\"US.States\", country=\"United States\">,\n",
       " 'Mississippi': <NamedArea name:\"Mississippi\" area_id=\"28\", level=\"US.States\", country=\"United States\">,\n",
       " 'Missouri': <NamedArea name:\"Missouri\" area_id=\"29\", level=\"US.States\", country=\"United States\">,\n",
       " 'Montana': <NamedArea name:\"Montana\" area_id=\"30\", level=\"US.States\", country=\"United States\">,\n",
       " 'Nebraska': <NamedArea name:\"Nebraska\" area_id=\"31\", level=\"US.States\", country=\"United States\">,\n",
       " 'Nevada': <NamedArea name:\"Nevada\" area_id=\"32\", level=\"US.States\", country=\"United States\">,\n",
       " 'New_Hampshire': <NamedArea name:\"New Hampshire\" area_id=\"33\", level=\"US.States\", country=\"United States\">,\n",
       " 'New_Jersey': <NamedArea name:\"New Jersey\" area_id=\"34\", level=\"US.States\", country=\"United States\">,\n",
       " 'New_Mexico': <NamedArea name:\"New Mexico\" area_id=\"35\", level=\"US.States\", country=\"United States\">,\n",
       " 'New_York': <NamedArea name:\"New York\" area_id=\"36\", level=\"US.States\", country=\"United States\">,\n",
       " 'North_Carolina': <NamedArea name:\"North Carolina\" area_id=\"37\", level=\"US.States\", country=\"United States\">,\n",
       " 'North_Dakota': <NamedArea name:\"North Dakota\" area_id=\"38\", level=\"US.States\", country=\"United States\">,\n",
       " 'Ohio': <NamedArea name:\"Ohio\" area_id=\"39\", level=\"US.States\", country=\"United States\">,\n",
       " 'Oklahoma': <NamedArea name:\"Oklahoma\" area_id=\"40\", level=\"US.States\", country=\"United States\">,\n",
       " 'Oregon': <NamedArea name:\"Oregon\" area_id=\"41\", level=\"US.States\", country=\"United States\">,\n",
       " 'Pennsylvania': <NamedArea name:\"Pennsylvania\" area_id=\"42\", level=\"US.States\", country=\"United States\">,\n",
       " 'Rhode_Island': <NamedArea name:\"Rhode Island\" area_id=\"44\", level=\"US.States\", country=\"United States\">,\n",
       " 'South_Carolina': <NamedArea name:\"South Carolina\" area_id=\"45\", level=\"US.States\", country=\"United States\">,\n",
       " 'South_Dakota': <NamedArea name:\"South Dakota\" area_id=\"46\", level=\"US.States\", country=\"United States\">,\n",
       " 'Tennessee': <NamedArea name:\"Tennessee\" area_id=\"47\", level=\"US.States\", country=\"United States\">,\n",
       " 'Texas': <NamedArea name:\"Texas\" area_id=\"48\", level=\"US.States\", country=\"United States\">,\n",
       " 'Utah': <NamedArea name:\"Utah\" area_id=\"49\", level=\"US.States\", country=\"United States\">,\n",
       " 'Vermont': <NamedArea name:\"Vermont\" area_id=\"50\", level=\"US.States\", country=\"United States\">,\n",
       " 'Virginia': <NamedArea name:\"Virginia\" area_id=\"51\", level=\"US.States\", country=\"United States\">,\n",
       " 'Washington': <NamedArea name:\"Washington\" area_id=\"53\", level=\"US.States\", country=\"United States\">,\n",
       " 'West_Virginia': <NamedArea name:\"West Virginia\" area_id=\"54\", level=\"US.States\", country=\"United States\">,\n",
       " 'Wisconsin': <NamedArea name:\"Wisconsin\" area_id=\"55\", level=\"US.States\", country=\"United States\">,\n",
       " 'Wyoming': <NamedArea name:\"Wyoming\" area_id=\"56\", level=\"US.States\", country=\"United States\">}"
      ]
     },
     "execution_count": 10,
     "metadata": {},
     "output_type": "execute_result"
    }
   ],
   "source": [
    "usa.subgeographies.states"
   ]
  },
  {
   "cell_type": "code",
   "execution_count": 11,
   "metadata": {},
   "outputs": [],
   "source": [
    "geom = usa.subgeographies.states['California'].geometry"
   ]
  },
  {
   "cell_type": "code",
   "execution_count": 12,
   "metadata": {},
   "outputs": [
    {
     "data": {
      "application/vnd.jupyter.widget-view+json": {
       "model_id": "80f58578381c4f66bca526b09bb71b10",
       "version_major": 2,
       "version_minor": 0
      },
      "text/plain": [
       "MapView(layout=Layout(height='400px', width='100%'))"
      ]
     },
     "metadata": {},
     "output_type": "display_data"
    }
   ],
   "source": [
    "m = gis.map(\"California, USA\")\n",
    "m"
   ]
  },
  {
   "cell_type": "code",
   "execution_count": null,
   "metadata": {},
   "outputs": [],
   "source": []
  }
 ],
 "metadata": {
  "kernelspec": {
   "display_name": "Python 3",
   "language": "python",
   "name": "python3"
  },
  "language_info": {
   "codemirror_mode": {
    "name": "ipython",
    "version": 3
   },
   "file_extension": ".py",
   "mimetype": "text/x-python",
   "name": "python",
   "nbconvert_exporter": "python",
   "pygments_lexer": "ipython3",
   "version": "3.6.6"
  }
 },
 "nbformat": 4,
 "nbformat_minor": 2
}
