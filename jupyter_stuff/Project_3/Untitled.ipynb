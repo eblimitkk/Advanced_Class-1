{
 "cells": [
  {
   "cell_type": "code",
   "execution_count": 14,
   "metadata": {},
   "outputs": [],
   "source": [
    "import arcpy, csv,os\n",
    "\n",
    "input_tbl = r'D:\\Advanced_Class\\jupyter_stuff\\Project_3\\states.gdb\\MO_1'\n",
    "csv_filepath=r'D:\\Advanced_Class\\jupyter_stuff\\Project_3\\output.csv'\n",
    "\n",
    "\n",
    "#def tableToCSV(input_tbl, csv_filepath):\n",
    "   # '''go from feature class to csv'''\n",
    "#fld_list = arcpy.ListFields(input_tbl)\n",
    "fld_list = arcpy.ListFields(input_tbl)\n",
    "fld_names = [fld.name for fld in fld_list]\n",
    "\n"
   ]
  },
  {
   "cell_type": "code",
   "execution_count": 15,
   "metadata": {},
   "outputs": [],
   "source": [
    "fld_names = [fld.name for fld in fld_list]"
   ]
  },
  {
   "cell_type": "code",
   "execution_count": 16,
   "metadata": {},
   "outputs": [
    {
     "data": {
      "text/plain": [
       "['OBJECTID',\n",
       " 'Shape',\n",
       " 'ID',\n",
       " 'NAME',\n",
       " 'STATE_NAME',\n",
       " 'ST_ABBREV',\n",
       " 'County_AREA',\n",
       " 'TSEGNUM',\n",
       " 'TSEGCODE',\n",
       " 'TSEGNAME',\n",
       " 'THHBASE',\n",
       " 'THH01',\n",
       " 'THH02',\n",
       " 'THH03',\n",
       " 'THH04',\n",
       " 'THH05',\n",
       " 'THH06',\n",
       " 'THH07',\n",
       " 'THH08',\n",
       " 'THH09',\n",
       " 'THH10',\n",
       " 'THH11',\n",
       " 'THH12',\n",
       " 'THH13',\n",
       " 'THH14',\n",
       " 'THH15',\n",
       " 'THH16',\n",
       " 'THH17',\n",
       " 'THH18',\n",
       " 'THH19',\n",
       " 'THH20',\n",
       " 'THH21',\n",
       " 'THH22',\n",
       " 'THH23',\n",
       " 'THH24',\n",
       " 'THH25',\n",
       " 'THH26',\n",
       " 'THH27',\n",
       " 'THH28',\n",
       " 'THH29',\n",
       " 'THH30',\n",
       " 'THH31',\n",
       " 'THH32',\n",
       " 'THH33',\n",
       " 'THH34',\n",
       " 'THH35',\n",
       " 'THH36',\n",
       " 'THH37',\n",
       " 'THH38',\n",
       " 'THH39',\n",
       " 'THH40',\n",
       " 'THH41',\n",
       " 'THH42',\n",
       " 'THH43',\n",
       " 'THH44',\n",
       " 'THH45',\n",
       " 'THH46',\n",
       " 'THH47',\n",
       " 'THH48',\n",
       " 'THH49',\n",
       " 'THH50',\n",
       " 'THH51',\n",
       " 'THH52',\n",
       " 'THH53',\n",
       " 'THH54',\n",
       " 'THH55',\n",
       " 'THH56',\n",
       " 'THH57',\n",
       " 'THH58',\n",
       " 'THH59',\n",
       " 'THH60',\n",
       " 'THH61',\n",
       " 'THH62',\n",
       " 'THH63',\n",
       " 'THH64',\n",
       " 'THH65',\n",
       " 'THH66',\n",
       " 'THH67',\n",
       " 'THH68',\n",
       " 'TLIFECODE',\n",
       " 'TLIFENAME',\n",
       " 'Flier_URL',\n",
       " 'THHGRPL1',\n",
       " 'THHGRPL2',\n",
       " 'THHGRPL3',\n",
       " 'THHGRPL4',\n",
       " 'THHGRPL5',\n",
       " 'THHGRPL6',\n",
       " 'THHGRPL7',\n",
       " 'THHGRPL8',\n",
       " 'THHGRPL9',\n",
       " 'THHGRPL10',\n",
       " 'THHGRPL11',\n",
       " 'THHGRPL12',\n",
       " 'THHGRPL13',\n",
       " 'THHGRPL14',\n",
       " 'Shape_Length',\n",
       " 'Shape_Area']"
      ]
     },
     "execution_count": 16,
     "metadata": {},
     "output_type": "execute_result"
    }
   ],
   "source": [
    "fld_names"
   ]
  },
  {
   "cell_type": "code",
   "execution_count": 19,
   "metadata": {},
   "outputs": [
    {
     "name": "stdout",
     "output_type": "stream",
     "text": [
      "D:\\Advanced_Class\\jupyter_stuff\\Project_3\\output.csv CREATED\n"
     ]
    }
   ],
   "source": [
    "with open(csv_filepath, 'w') as csv_file:\n",
    "    writer = csv.writer(csv_file)\n",
    "    writer.writerow(fld_names)\n",
    "    with arcpy.da.SearchCursor(input_tbl, fld_names) as cursor:\n",
    "        for row in cursor:\n",
    "            writer.writerow(row)\n",
    "    print (csv_filepath + \" CREATED\")\n",
    "csv_file.close()"
   ]
  },
  {
   "cell_type": "code",
   "execution_count": null,
   "metadata": {},
   "outputs": [],
   "source": []
  }
 ],
 "metadata": {
  "kernelspec": {
   "display_name": "Python 3",
   "language": "python",
   "name": "python3"
  },
  "language_info": {
   "codemirror_mode": {
    "name": "ipython",
    "version": 3
   },
   "file_extension": ".py",
   "mimetype": "text/x-python",
   "name": "python",
   "nbconvert_exporter": "python",
   "pygments_lexer": "ipython3",
   "version": "3.6.6"
  }
 },
 "nbformat": 4,
 "nbformat_minor": 2
}
