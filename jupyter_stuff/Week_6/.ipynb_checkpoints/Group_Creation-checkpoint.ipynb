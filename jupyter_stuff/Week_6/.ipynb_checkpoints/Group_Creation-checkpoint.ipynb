{
 "cells": [
  {
   "cell_type": "markdown",
   "metadata": {},
   "source": [
    "# Week 6 - Assignment 2"
   ]
  },
  {
   "cell_type": "code",
   "execution_count": 11,
   "metadata": {},
   "outputs": [],
   "source": [
    "from arcgis.gis import GIS"
   ]
  },
  {
   "cell_type": "code",
   "execution_count": 12,
   "metadata": {},
   "outputs": [],
   "source": [
    "gis = GIS(\"https://slustl.maps.arcgis.com/home\", \"sspiegel_slu\",\"Apples*200\")"
   ]
  },
  {
   "cell_type": "code",
   "execution_count": 13,
   "metadata": {},
   "outputs": [],
   "source": [
    "dict_list = [{'Title':'Steven_Webmaps',\n",
    "             'tags':'webmaps, GIS',\n",
    "             'description':'This is a description.',\n",
    "             'access':'Public',\n",
    "             'is_invitation_only':'False'},\n",
    "            {'Title':'Steven_Feature_Services',\n",
    "             'tags':'feature services, GIS',\n",
    "             'description':'This is a description for Feature Services.',\n",
    "             'access':'Public',\n",
    "             'is_invitation_only':'False'},\n",
    "            {'Title':'Steven_All_Content',\n",
    "             'tags':'all content, GIS',\n",
    "             'description':'This is a description for everything.',\n",
    "             'access':'Public',\n",
    "             'is_invitation_only':'False'}]"
   ]
  },
  {
   "cell_type": "code",
   "execution_count": 14,
   "metadata": {},
   "outputs": [],
   "source": [
    "for dic in dict_list:\n",
    "    gis.groups.create(dic['Title'],\n",
    "                     dic['tags'],\n",
    "                     dic['access'],\n",
    "                     dic['is_invitation_only'])\n",
    "    \n",
    "    \n",
    "    "
   ]
  },
  {
   "cell_type": "code",
   "execution_count": null,
   "metadata": {},
   "outputs": [],
   "source": []
  }
 ],
 "metadata": {
  "kernelspec": {
   "display_name": "Python 3",
   "language": "python",
   "name": "python3"
  },
  "language_info": {
   "codemirror_mode": {
    "name": "ipython",
    "version": 3
   },
   "file_extension": ".py",
   "mimetype": "text/x-python",
   "name": "python",
   "nbconvert_exporter": "python",
   "pygments_lexer": "ipython3",
   "version": "3.6.6"
  }
 },
 "nbformat": 4,
 "nbformat_minor": 2
}
