{
 "cells": [
  {
   "cell_type": "code",
   "execution_count": 1,
   "metadata": {},
   "outputs": [],
   "source": [
    "from IPython.display import display\n",
    "from arcgis.gis import *"
   ]
  },
  {
   "cell_type": "code",
   "execution_count": 2,
   "metadata": {},
   "outputs": [],
   "source": [
    "gis = GIS(\"https://slustl.maps.arcgis.com/home\", \"sspiegel_slu\",\"Apples*200\")"
   ]
  },
  {
   "cell_type": "code",
   "execution_count": 3,
   "metadata": {},
   "outputs": [
    {
     "data": {
      "text/plain": [
       "[<User username:gregbrunner_slugis>]"
      ]
     },
     "execution_count": 3,
     "metadata": {},
     "output_type": "execute_result"
    }
   ],
   "source": [
    "gis.users.search(\"Gregory\")"
   ]
  },
  {
   "cell_type": "code",
   "execution_count": 4,
   "metadata": {},
   "outputs": [
    {
     "data": {
      "text/plain": [
       "[<User username:sspiegel_slu>]"
      ]
     },
     "execution_count": 4,
     "metadata": {},
     "output_type": "execute_result"
    }
   ],
   "source": [
    "gis.users.search(\"Steven\")"
   ]
  },
  {
   "cell_type": "code",
   "execution_count": 6,
   "metadata": {},
   "outputs": [],
   "source": [
    "users=gis.users.search()"
   ]
  },
  {
   "cell_type": "code",
   "execution_count": 7,
   "metadata": {},
   "outputs": [
    {
     "data": {
      "text/plain": [
       "[<User username:abehera_SLUSTL>,\n",
       " <User username:abrok_SLU>,\n",
       " <User username:abudureheman.taiwaikuli_SLUSTL>,\n",
       " <User username:adrianjc>,\n",
       " <User username:ahmadaldalawi_slustl>,\n",
       " <User username:alexandra.johnson_SLUSTL>,\n",
       " <User username:areeves8_SLUSTL>,\n",
       " <User username:armbrees_SLUSTL>,\n",
       " <User username:awulamu_SLUSTL>,\n",
       " <User username:baerah>,\n",
       " <User username:beitschermr>,\n",
       " <User username:blissmc>,\n",
       " <User username:breneman_SLUSTL>,\n",
       " <User username:brinkleykj5>,\n",
       " <User username:bsiracuse>,\n",
       " <User username:buerckjp>,\n",
       " <User username:chris.prener_SLUSTL>,\n",
       " <User username:chuanfeng_slustl>,\n",
       " <User username:coffinsl>,\n",
       " <User username:corey.grejtakheaps>,\n",
       " <User username:cotag_SLU>,\n",
       " <User username:crawfordtw_SLUSTL>,\n",
       " <User username:cuaycongy_SLUSTL>,\n",
       " <User username:david.ridge>,\n",
       " <User username:delpt_SLU>,\n",
       " <User username:dianatid>,\n",
       " <User username:dmhall_SLUSTL>,\n",
       " <User username:edmundsonns>,\n",
       " <User username:emmaleeblackwood>,\n",
       " <User username:femmermd_SLUSTL>,\n",
       " <User username:flanaganm>,\n",
       " <User username:fogelns>,\n",
       " <User username:fredrickha>,\n",
       " <User username:gchadala>,\n",
       " <User username:gilberpg_slu>,\n",
       " <User username:gregbrunner_slugis>,\n",
       " <User username:hamilljc_SLUSTL>,\n",
       " <User username:haretr_SLUSTL>,\n",
       " <User username:heinemannpd>,\n",
       " <User username:hermannscl>,\n",
       " <User username:huttiet>,\n",
       " <User username:ilopezba_SLUSTL>,\n",
       " <User username:jake.brinkman>,\n",
       " <User username:jbesser>,\n",
       " <User username:jesnstevens>,\n",
       " <User username:jlovato12>,\n",
       " <User username:jsandov3@slu.edu>,\n",
       " <User username:jtchin>,\n",
       " <User username:kevineblimit_slustl>,\n",
       " <User username:kirlinb>,\n",
       " <User username:kostielneymi>,\n",
       " <User username:laurenlovato_slustl>,\n",
       " <User username:lbernett_SLUSTL>,\n",
       " <User username:Leard_SLUSTL>,\n",
       " <User username:lockmillerka>,\n",
       " <User username:loganwilliams_slustl>,\n",
       " <User username:loniewskimg>,\n",
       " <User username:madisonbrown3>,\n",
       " <User username:mainhartmr>,\n",
       " <User username:matthewroark_slustl>,\n",
       " <User username:maxwellac>,\n",
       " <User username:mcnelson0>,\n",
       " <User username:megan.greathousegause_SLUSTL>,\n",
       " <User username:mmuell37_SLUSTL>,\n",
       " <User username:mschootm>,\n",
       " <User username:nandismith>,\n",
       " <User username:opusmbephd>,\n",
       " <User username:ottena>,\n",
       " <User username:pagliaro_slu>,\n",
       " <User username:red_catan>,\n",
       " <User username:reev6867_SLUSTL>,\n",
       " <User username:robertwurth_slustl>,\n",
       " <User username:roderzm>,\n",
       " <User username:sakowskimk>,\n",
       " <User username:schwarzkopfrl7>,\n",
       " <User username:shaughnessyar>,\n",
       " <User username:sspiegel_slu>,\n",
       " <User username:stephenSLU>,\n",
       " <User username:stluedu_SLUSTL>,\n",
       " <User username:SuePSC>,\n",
       " <User username:syedaval>,\n",
       " <User username:tara.mott_SLUSTL>,\n",
       " <User username:tongxu_SLUSTL>,\n",
       " <User username:txiao1_SLUSTL>,\n",
       " <User username:Tyritch>,\n",
       " <User username:wfmjr68>,\n",
       " <User username:yasena7>,\n",
       " <User username:yasen_SLUSTL>,\n",
       " <User username:yvonne.fisher_SLUSTL>]"
      ]
     },
     "execution_count": 7,
     "metadata": {},
     "output_type": "execute_result"
    }
   ],
   "source": [
    "users"
   ]
  },
  {
   "cell_type": "code",
   "execution_count": 8,
   "metadata": {},
   "outputs": [],
   "source": [
    "steven=gis.users.search(\"Spiegel\")"
   ]
  },
  {
   "cell_type": "code",
   "execution_count": 9,
   "metadata": {},
   "outputs": [
    {
     "data": {
      "text/plain": [
       "[<User username:sspiegel_slu>]"
      ]
     },
     "execution_count": 9,
     "metadata": {},
     "output_type": "execute_result"
    }
   ],
   "source": [
    "steven"
   ]
  },
  {
   "cell_type": "code",
   "execution_count": 10,
   "metadata": {},
   "outputs": [
    {
     "data": {
      "text/html": [
       "<div class=\"9item_container\" style=\"height: auto; overflow: hidden; border: 1px solid #cfcfcf; border-radius: 2px; background: #f6fafa; line-height: 1.21429em; padding: 10px;\">\n",
       "                    <div class=\"item_left\" style=\"width: 210px; float: left;\">\n",
       "                       <a href='https://SLUSTL.maps.arcgis.com/home/user.html?user=sspiegel_slu' target='_blank'>\n",
       "                        <img src='https://SLUSTL.maps.arcgis.com/home/js/arcgisonline/css/images/no-user-thumb.jpg' class=\"itemThumbnail\">\n",
       "                       </a>\n",
       "                    </div>\n",
       "\n",
       "                    <div class=\"item_right\" style=\"float: none; width: auto; overflow: hidden;\">\n",
       "                        <a href='https://SLUSTL.maps.arcgis.com/home/user.html?user=sspiegel_slu' target='_blank'><b>Steven Spiegel</b>\n",
       "                        </a>\n",
       "                        <br/><br/><b>Bio</b>: None\n",
       "                        <br/><b>First Name</b>: Steven\n",
       "                        <br/><b>Last Name</b>: Spiegel\n",
       "                        <br/><b>Username</b>: sspiegel_slu\n",
       "                        <br/><b>Joined</b>: August 30, 2018\n",
       "\n",
       "                    </div>\n",
       "                </div>\n",
       "                "
      ],
      "text/plain": [
       "<User username:sspiegel_slu>"
      ]
     },
     "execution_count": 10,
     "metadata": {},
     "output_type": "execute_result"
    }
   ],
   "source": [
    "steven[0]"
   ]
  },
  {
   "cell_type": "code",
   "execution_count": 11,
   "metadata": {},
   "outputs": [],
   "source": [
    "steven=steven[0]"
   ]
  },
  {
   "cell_type": "code",
   "execution_count": 14,
   "metadata": {},
   "outputs": [
    {
     "data": {
      "text/plain": [
       "True"
      ]
     },
     "execution_count": 14,
     "metadata": {},
     "output_type": "execute_result"
    }
   ],
   "source": [
    "steven.update(thumbnail=\"hockey_sticks.png\")"
   ]
  },
  {
   "cell_type": "code",
   "execution_count": 15,
   "metadata": {},
   "outputs": [
    {
     "data": {
      "text/html": [
       "<div class=\"9item_container\" style=\"height: auto; overflow: hidden; border: 1px solid #cfcfcf; border-radius: 2px; background: #f6fafa; line-height: 1.21429em; padding: 10px;\">\n",
       "                    <div class=\"item_left\" style=\"width: 210px; float: left;\">\n",
       "                       <a href='https://SLUSTL.maps.arcgis.com/home/user.html?user=sspiegel_slu' target='_blank'>\n",
       "                        <img src='data:image/png;base64,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' width='200' height='133' class=\"itemThumbnail\">\n",
       "                       </a>\n",
       "                    </div>\n",
       "\n",
       "                    <div class=\"item_right\" style=\"float: none; width: auto; overflow: hidden;\">\n",
       "                        <a href='https://SLUSTL.maps.arcgis.com/home/user.html?user=sspiegel_slu' target='_blank'><b>Steven Spiegel</b>\n",
       "                        </a>\n",
       "                        <br/><br/><b>Bio</b>: None\n",
       "                        <br/><b>First Name</b>: Steven\n",
       "                        <br/><b>Last Name</b>: Spiegel\n",
       "                        <br/><b>Username</b>: sspiegel_slu\n",
       "                        <br/><b>Joined</b>: August 30, 2018\n",
       "\n",
       "                    </div>\n",
       "                </div>\n",
       "                "
      ],
      "text/plain": [
       "<User username:sspiegel_slu>"
      ]
     },
     "execution_count": 15,
     "metadata": {},
     "output_type": "execute_result"
    }
   ],
   "source": [
    "steven"
   ]
  },
  {
   "cell_type": "code",
   "execution_count": 16,
   "metadata": {},
   "outputs": [
    {
     "data": {
      "text/plain": [
       "[<Group title:\"GREGORY_BRUNNERS_WEBMAPS\" owner:gregbrunner_slugis>]"
      ]
     },
     "execution_count": 16,
     "metadata": {},
     "output_type": "execute_result"
    }
   ],
   "source": [
    "gis.groups.search('title:webmap')"
   ]
  },
  {
   "cell_type": "code",
   "execution_count": 18,
   "metadata": {},
   "outputs": [
    {
     "data": {
      "text/plain": [
       "'Steven Spiegel'"
      ]
     },
     "execution_count": 18,
     "metadata": {},
     "output_type": "execute_result"
    }
   ],
   "source": [
    "steven.fullName"
   ]
  },
  {
   "cell_type": "code",
   "execution_count": null,
   "metadata": {},
   "outputs": [],
   "source": []
  }
 ],
 "metadata": {
  "kernelspec": {
   "display_name": "Python 3",
   "language": "python",
   "name": "python3"
  },
  "language_info": {
   "codemirror_mode": {
    "name": "ipython",
    "version": 3
   },
   "file_extension": ".py",
   "mimetype": "text/x-python",
   "name": "python",
   "nbconvert_exporter": "python",
   "pygments_lexer": "ipython3",
   "version": "3.6.6"
  }
 },
 "nbformat": 4,
 "nbformat_minor": 2
}
